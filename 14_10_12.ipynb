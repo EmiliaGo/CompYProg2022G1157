{
  "nbformat": 4,
  "nbformat_minor": 0,
  "metadata": {
    "colab": {
      "name": "14-10-12.ipynb",
      "provenance": [],
      "collapsed_sections": [],
      "authorship_tag": "ABX9TyNOHJupKNN0T0oEfDjkO9iH",
      "include_colab_link": true
    },
    "kernelspec": {
      "name": "python3",
      "display_name": "Python 3"
    },
    "language_info": {
      "name": "python"
    }
  },
  "cells": [
    {
      "cell_type": "markdown",
      "metadata": {
        "id": "view-in-github",
        "colab_type": "text"
      },
      "source": [
        "<a href=\"https://colab.research.google.com/github/EmiliaGo/CompYProg2022G1157/blob/main/14_10_12.ipynb\" target=\"_parent\"><img src=\"https://colab.research.google.com/assets/colab-badge.svg\" alt=\"Open In Colab\"/></a>"
      ]
    },
    {
      "cell_type": "code",
      "metadata": {
        "colab": {
          "base_uri": "https://localhost:8080/"
        },
        "id": "eFNDIGwXVZSy",
        "outputId": "33e8bea9-03fc-4480-f2d8-2d6d104642e3"
      },
      "source": [
        "# 14 DE OCTUBRE DE 2021 de las 4:00 pm - 6:00 pm\n",
        "\n",
        "nombre = \"José\" #Tipo de dat String (cadena de caracteres)\n",
        "\n",
        "print (nombre)"
      ],
      "execution_count": null,
      "outputs": [
        {
          "output_type": "stream",
          "name": "stdout",
          "text": [
            "José\n"
          ]
        }
      ]
    },
    {
      "cell_type": "markdown",
      "metadata": {
        "id": "ukdvdIc__Yqu"
      },
      "source": [
        "Se empezo el 12 de octubre 2021"
      ]
    },
    {
      "cell_type": "markdown",
      "metadata": {
        "id": "ww9CbhxCXNNu"
      },
      "source": [
        "# Tipos de datos en Python\n",
        "## Tipos simples\n",
        "- str -- String cadena de caracatéres\n",
        "- int -- Números enteros \n",
        "- float -- Números con notacion de punto flotante\n",
        "- complex -- Números complejos \n",
        "- bool -- Bolenao (True o Fals)\n",
        "- byte -- 8 bits\n",
        "\n",
        "## Tipos de datos estruturados (compuesto)\n",
        "- list -- Listas (arreglos)\n",
        "- tuple --Lista no mutable\n",
        "- dict -- Diccionarios\n",
        "- set y frozenset -- Conjuntos\n",
        "\n",
        "\n"
      ]
    },
    {
      "cell_type": "code",
      "metadata": {
        "colab": {
          "base_uri": "https://localhost:8080/"
        },
        "id": "zw2CtGKXaQm2",
        "outputId": "c69e1f2c-04eb-45c5-905f-692f72118350"
      },
      "source": [
        "import sys\n",
        "# libreria \n",
        "edad = 19\n",
        "print (\"Tu edad es:\", edad)  # pueden ir despues de una linea de código\n",
        "# Este es un comentario de linea simple\n",
        "\n",
        "\"\"\"\n",
        "Cometario\n",
        "de multiple línea\n",
        "En el lenjuage de C, C++ y Java el comentario de multiple línea es con\n",
        "/* ..... */\n",
        "de una sola linea es \n",
        "//\n",
        "\"\"\"\n",
        "\n",
        "# Tipo de dato númerico int y float\n",
        "\n",
        "print (sys.getsizeof(edad))\n",
        "#cuanto ocupa en este caso 28 bits\n",
        "# el tipo de datos INT utiliza diferentes casntidad de bits segun el leg. de \n",
        "#prog. por ejemplo en C ocupa 16 bits\n",
        "edad = edad + 1\n",
        "print (edad)\n",
        "\n",
        "estatura = 1.56\n",
        "print (estatura)\n",
        "print (sys.getsizeof(estatura))\n",
        "estatura = estatura + 0.1\n",
        "print (estatura)\n",
        "print (round(estatura,2))\n",
        "# redondeando\n",
        "# Ocupa 4 bytes\n",
        "\n",
        "\n",
        "edad += 1 # es igual a edad = edad + 1\n",
        "print (\"Tu edad es\",edad)\n",
        "\n",
        "edad -= 1\n",
        "print (\"tu edad es\", edad)\n",
        "\n",
        "edad /= 2 \n",
        "print (\"La mitad de tu edade es:\", edad)\n",
        "\n",
        "edad = 21\n",
        "#volver a calcular la mitad de la edad pero solo dejar la aprte entera\n",
        "edad = edad // 2\n",
        "print (\"Tu edad es:\", edad) \n",
        "\n",
        "#en la amyoria de lenguajes no permite operaciones entre diferentes tipos de datos\n",
        "\n",
        "numero = edad / 2.0\n",
        "print (numero)\n",
        "\n",
        "numero = numero * 3\n",
        "# o numero *= 3 . MULTIPLICACION\n",
        "print (numero)\n",
        "\n",
        "numero = 5.0\n",
        "numero = numero **2\n",
        "#POTENCIA, no tiene simplificacion es otros lenguajes\n",
        "print (numero)\n",
        "\n",
        "#mod operador --- Modulo\n",
        "numero = 21\n",
        "print (numero / 2)\n",
        "\n"
      ],
      "execution_count": null,
      "outputs": [
        {
          "output_type": "stream",
          "name": "stdout",
          "text": [
            "Tu edad es: 19\n",
            "28\n",
            "20\n",
            "1.56\n",
            "24\n",
            "1.6600000000000001\n",
            "1.66\n",
            "Tu edad es 21\n",
            "tu edad es 20\n",
            "La mitad de tu edade es: 10.0\n",
            "Tu edad es: 10\n",
            "5.0\n",
            "15.0\n",
            "25.0\n"
          ]
        }
      ]
    },
    {
      "cell_type": "code",
      "metadata": {
        "id": "asJJt1vCkn4H"
      },
      "source": [
        ""
      ],
      "execution_count": null,
      "outputs": []
    },
    {
      "cell_type": "code",
      "metadata": {
        "colab": {
          "base_uri": "https://localhost:8080/"
        },
        "id": "Z3oPAHXJlwYB",
        "outputId": "d47f4bf8-87a5-4bcb-f351-c12b1a05531a"
      },
      "source": [
        "\n",
        "numero = 21\n",
        "print (numero / 2)\n",
        "\n",
        "#parte entera\n",
        "print (numero // 2)\n",
        "\n",
        "#mod operador --- Modulo, da el residuo de la division entera\n",
        "#signo de porciento\n",
        "print (numero % 2)\n",
        "\n",
        "numero = 24\n",
        "print (\"resuduo de 24/5:\", numero % 5)\n",
        "\n",
        "print (numero % 2 == 0)\n",
        "# comparador lógico\n",
        "\n",
        "print (numero > 2)\n",
        "\n",
        "\n",
        "print (\"El tipo de dato de la var numero es:\", type (numero))\n",
        "print (\"El tipo de dato de la var numero /2.0 es:\", type (numero/2.0))"
      ],
      "execution_count": null,
      "outputs": [
        {
          "output_type": "stream",
          "name": "stdout",
          "text": [
            "10.5\n",
            "10\n",
            "1\n",
            "resuduo de 24/5: 4\n",
            "True\n",
            "True\n",
            "El tipo de dato de la var numero es: <class 'int'>\n",
            "El tipo de dato de la var numero /2.0 es: <class 'float'>\n"
          ]
        }
      ]
    },
    {
      "cell_type": "markdown",
      "metadata": {
        "id": "PmWyySKXpqdw"
      },
      "source": [
        "# Tipo de dato String (str) en Python\n",
        "- se maneja  como un arreglo (tipo de dato compuesto)\n",
        "- se puede acceder a los elementos de el string por medio del índice del caracter\n",
        "- mutable\n",
        "- tiene metodos utiles potentes\n",
        "- slicing"
      ]
    },
    {
      "cell_type": "code",
      "metadata": {
        "colab": {
          "base_uri": "https://localhost:8080/"
        },
        "id": "L8-OWEyvqWs1",
        "outputId": "d7725d83-f100-41e0-ea70-9bc297901aec"
      },
      "source": [
        "nombre = 'Emilia'\n",
        "carrera = \"Ingenieria en computación\"\n",
        "frase = \"\"\"El conocimiento \n",
        "me persige,...\n",
        "pero \n",
        "yo soy más rapido\n",
        "\"\"\"\n",
        "print (nombre)\n",
        "print (carrera)\n",
        "print (frase)\n",
        "\n",
        "# La funcion type de Python te devuelve el tipo de dato de una variabre\n",
        "\n",
        "paterno = str (\"Gonzalez\")\n",
        "# str es una clase\n",
        "\n",
        "print (paterno)"
      ],
      "execution_count": null,
      "outputs": [
        {
          "output_type": "stream",
          "name": "stdout",
          "text": [
            "Emilia\n",
            "Ingeneria en computación\n",
            "El conocimiento \n",
            "me persige,...\n",
            "pero \n",
            "yo soy más rapido\n",
            "\n",
            "Gonzalez\n"
          ]
        }
      ]
    },
    {
      "cell_type": "markdown",
      "metadata": {
        "id": "C1v0JH0t_OE_"
      },
      "source": [
        "#Clase 14 de Octubre de 2021"
      ]
    },
    {
      "cell_type": "markdown",
      "metadata": {
        "id": "bQES0PUEpHWM"
      },
      "source": [
        "##Una clase (class) es un tipo de dato compuesto"
      ]
    },
    {
      "cell_type": "code",
      "metadata": {
        "colab": {
          "base_uri": "https://localhost:8080/"
        },
        "id": "GR_pCxE0pXN3",
        "outputId": "16a40fa1-3897-4f5e-808e-d6c4bfcd6720"
      },
      "source": [
        "carrera = \"Ingeniería en computacion\"\n",
        "print (carrera)\n",
        "\n",
        "print (carrera [2])"
      ],
      "execution_count": 2,
      "outputs": [
        {
          "output_type": "stream",
          "name": "stdout",
          "text": [
            "Ingeniería en computacion\n"
          ]
        }
      ]
    },
    {
      "cell_type": "markdown",
      "metadata": {
        "id": "Bvqrk1L6rnVz"
      },
      "source": [
        "# la sintaxis escita para elegir un elemento de un grupo de datos se llama selector\n",
        "\n",
        "En el caso de Strings y lista (lst) se usan [ y ]\n",
        "\n",
        "1. En todos los le. los arreglos inician en cero.\n",
        "2. En python no exixte como tal el tipo de dato arreglo, el concepto es sustituido por las listas.\n",
        "3. Los strings se comportan como un arreglo en la mayoria de los leng.\n",
        "4. En python se aceptan en indexado negativo, en otros lenguajes NO. "
      ]
    },
    {
      "cell_type": "code",
      "metadata": {
        "colab": {
          "base_uri": "https://localhost:8080/"
        },
        "id": "bor15YwSsrQ3",
        "outputId": "8f961520-50de-4f0c-dd2c-38947ded48c0"
      },
      "source": [
        "carrera = \"Ingeniería en computacion\"\n",
        "\n",
        "print (carrera [8])\n",
        "print (carrera [24])\n",
        "print (carrera [-1])\n",
        "print (carrera [-25])\n",
        "\n",
        "#Adelantando el temas ciclo FOR\n",
        "\n",
        "for letra in carrera:\n",
        "    print (\"--\", letra ,\"--\")"
      ],
      "execution_count": 7,
      "outputs": [
        {
          "output_type": "stream",
          "name": "stdout",
          "text": [
            "í\n",
            "n\n",
            "n\n",
            "I\n",
            "-- I --\n",
            "-- n --\n",
            "-- g --\n",
            "-- e --\n",
            "-- n --\n",
            "-- i --\n",
            "-- e --\n",
            "-- r --\n",
            "-- í --\n",
            "-- a --\n",
            "--   --\n",
            "-- e --\n",
            "-- n --\n",
            "--   --\n",
            "-- c --\n",
            "-- o --\n",
            "-- m --\n",
            "-- p --\n",
            "-- u --\n",
            "-- t --\n",
            "-- a --\n",
            "-- c --\n",
            "-- i --\n",
            "-- o --\n",
            "-- n --\n"
          ]
        }
      ]
    },
    {
      "cell_type": "markdown",
      "metadata": {
        "id": "H_synrQFu6PO"
      },
      "source": [
        "# Slicing (rebanado) de cadenas\n",
        "\n",
        "Permite seleccionar subcadenas con e operador\n",
        "\n",
        "[inicio : stop : incremento]\n",
        "\n",
        "El stop no se incluye por eso debemos agregar una posicion extra\n",
        "\n",
        "### Slicing y valores por defecto\n",
        "\n",
        "inicio por defecto siempre será 0 \n",
        "stop: tamaño del arreglo (indexado positivo)\n",
        "\n",
        "Incremento: es 1 (indexado positivo)"
      ]
    },
    {
      "cell_type": "code",
      "metadata": {
        "colab": {
          "base_uri": "https://localhost:8080/"
        },
        "id": "m5tEAyHsvbr5",
        "outputId": "03ab51c4-ad9e-4542-f15d-054159795e34"
      },
      "source": [
        "carrera = \"Ingeniería en computacion\"\n",
        "print (carrera [0:10:1] )\n",
        "print (carrera [14:25:1] )\n",
        "# lo mismo pero en indexado negativo ¿¿¿\n",
        "print (carrera [-11:-1:1] )\n",
        "print (carrera [:10:] )\n",
        "print (carrera [14:25:] )\n",
        "\n",
        "#solucion previa \n",
        "print (\"------\")\n",
        "print (carrera [-11:-1:1] )\n",
        "print (carrera [-11: :1] )\n",
        "# toma un valor por defecto \n",
        "\n",
        "\n",
        "#ejercicio para incremento\n",
        "print (carrera [0:10:2])\n",
        "print (carrera[-1:-12:-1])\n",
        "print (carrera[25:13:-1])"
      ],
      "execution_count": 27,
      "outputs": [
        {
          "output_type": "stream",
          "name": "stdout",
          "text": [
            "Ingeniería\n",
            "computacion\n",
            "computacio\n",
            "Ingeniería\n",
            "computacion\n",
            "------\n",
            "computacio\n",
            "computacion\n",
            "Igneí\n",
            "noicatupmoc\n",
            "noicatupmoc\n"
          ]
        }
      ]
    },
    {
      "cell_type": "markdown",
      "metadata": {
        "id": "wdgf72-50ijl"
      },
      "source": [
        "# String y sus métodos\n",
        "#Todos los tipos de datos en python son objetos (CLASE de la POO)\n",
        "\n",
        "### significa que tienen atributos y métodos\n",
        "\n",
        "## dir () y hepl () funciones para obtener ayuda del lenguaje Python \n",
        "\n",
        "### dir muestra las funciones de un tipo de dato como resumen \n",
        "\n",
        "### help muestra la misma ayudaperoa detalle\n",
        "\n",
        "### Metodos que inician con doble guion bajo son privados de uso interno y no deberiamos usarlos\n",
        "### los otros son para uso eterios (usuario)\n"
      ]
    },
    {
      "cell_type": "code",
      "metadata": {
        "colab": {
          "base_uri": "https://localhost:8080/"
        },
        "id": "O2MGpgbK0_6q",
        "outputId": "c74b9863-6de4-4b06-e8ba-7e1862677513"
      },
      "source": [
        "frutas = \" limon , fresa ,  manzana  , aguacate  \"\n",
        "nombre =\"josé\"\n",
        "print (frutas)\n",
        "\n",
        "# Métodos POO\n",
        "\n",
        "print ( nombre.capitalize() )\n",
        "print ( nombre.upper() )\n",
        "print ( frutas.replace( 'a' , '4').replace ('e','3').upper () )\n",
        "frutas = ( frutas.replace( 'a' , '4').replace ('e','3').upper () )\n",
        "#hay que asiganr si queremos que guarde \n",
        "print (frutas)\n",
        "\n",
        "#dir (frutas)\n",
        "#help (str)\n",
        "\n",
        "print (\"----------------\")\n",
        "frutas = \"  limon , fresa,  manzana  , aguacate  \"\n",
        "print (frutas.strip())\n",
        "#quita\n",
        "\n",
        "print (frutas.split())\n",
        "#separa por espacio\n",
        "print (frutas.split(','))\n",
        "\n",
        "print (frutas.index('n'))\n",
        "#\n",
        "print (frutas.find('n'))\n",
        "#te da un -1"
      ],
      "execution_count": 53,
      "outputs": [
        {
          "output_type": "stream",
          "name": "stdout",
          "text": [
            " limon , fresa ,  manzana  , aguacate  \n",
            "José\n",
            "JOSÉ\n",
            " LIMON , FR3S4 ,  M4NZ4N4  , 4GU4C4T3  \n",
            " LIMON , FR3S4 ,  M4NZ4N4  , 4GU4C4T3  \n",
            "----------------\n",
            "limon , fresa,  manzana  , aguacate\n",
            "['limon', ',', 'fresa,', 'manzana', ',', 'aguacate']\n",
            "['  limon ', ' fresa', '  manzana  ', ' aguacate  ']\n",
            "6\n",
            "6\n"
          ]
        }
      ]
    },
    {
      "cell_type": "code",
      "metadata": {
        "colab": {
          "base_uri": "https://localhost:8080/"
        },
        "id": "Fz3mKsZk692n",
        "outputId": "0847c1f6-24f0-475c-8ef2-51dd9e609e30"
      },
      "source": [
        "help (str.index)"
      ],
      "execution_count": 54,
      "outputs": [
        {
          "output_type": "stream",
          "name": "stdout",
          "text": [
            "Help on method_descriptor:\n",
            "\n",
            "index(...)\n",
            "    S.index(sub[, start[, end]]) -> int\n",
            "    \n",
            "    Return the lowest index in S where substring sub is found, \n",
            "    such that sub is contained within S[start:end].  Optional\n",
            "    arguments start and end are interpreted as in slice notation.\n",
            "    \n",
            "    Raises ValueError when the substring is not found.\n",
            "\n"
          ]
        }
      ]
    },
    {
      "cell_type": "markdown",
      "metadata": {
        "id": "3AJT1uWP8cnW"
      },
      "source": [
        "# String y caracteres de escape\n",
        "\n",
        "- \\\" --- \"\n",
        "- \\n --- salto de linea\n",
        "- \\t --- tabulador espacios ala izq.\n",
        "- \\uxxxx --- caracteres unicode\n",
        "- \\Uxxxxxxxx --- unicode extendido\n",
        "\n"
      ]
    },
    {
      "cell_type": "code",
      "metadata": {
        "colab": {
          "base_uri": "https://localhost:8080/"
        },
        "id": "Kd5Zc-wS80Rq",
        "outputId": "6a5a1929-d3a9-412d-b39d-1ccc2c31c136"
      },
      "source": [
        "print (\" \\\"Jose\\\" \")\n",
        "nombre =  \" \\\"Jose\\\" \"\n",
        "print (nombre)\n",
        "carrera = \"Ingenieria \\n\\ten \\n\\ten Computación\"\n",
        "print (carrera)"
      ],
      "execution_count": 58,
      "outputs": [
        {
          "output_type": "stream",
          "name": "stdout",
          "text": [
            " \"Jose\" \n",
            " \"Jose\" \n",
            "Ingenieria \n",
            "\ten \n",
            "\ten Computación\n"
          ]
        }
      ]
    }
  ]
}