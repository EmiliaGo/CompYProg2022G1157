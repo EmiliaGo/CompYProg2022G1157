{
  "nbformat": 4,
  "nbformat_minor": 0,
  "metadata": {
    "colab": {
      "name": "Tarea 5.ipynb",
      "provenance": [],
      "authorship_tag": "ABX9TyODQkkpQJftDKYKT9XPN4CA",
      "include_colab_link": true
    },
    "kernelspec": {
      "name": "python3",
      "display_name": "Python 3"
    },
    "language_info": {
      "name": "python"
    }
  },
  "cells": [
    {
      "cell_type": "markdown",
      "metadata": {
        "id": "view-in-github",
        "colab_type": "text"
      },
      "source": [
        "<a href=\"https://colab.research.google.com/github/EmiliaGo/CompYProg2022G1157/blob/main/Tarea_5.ipynb\" target=\"_parent\"><img src=\"https://colab.research.google.com/assets/colab-badge.svg\" alt=\"Open In Colab\"/></a>"
      ]
    },
    {
      "cell_type": "markdown",
      "metadata": {
        "id": "FKBnFZPpJy8Q"
      },
      "source": [
        "1. Hacer un programa que pida dos números enteros y que imprima en pantalla lo siguiente:\n",
        "\n",
        "¿Cuál de ellos es el número mayor?, ¿Cuál de ellos es el número menor? o en su defecto Imprimir que los valores son iguales"
      ]
    },
    {
      "cell_type": "code",
      "metadata": {
        "colab": {
          "base_uri": "https://localhost:8080/"
        },
        "id": "jH2AG9EGHenu",
        "outputId": "27c7cfb9-6b63-4e5e-c229-464e01f45db2"
      },
      "source": [
        "print(\"ingrese números enteros porfavor\")\n",
        "U = int(input(\"Ingrese un número entero \"))\n",
        "D = int(input(\"Ingrese otro número entero \"))\n",
        "\n",
        "if U < D:\n",
        "    print(f\"El primer número menor {U} es y el segundo el mayor {D}\") \n",
        "elif U > D:\n",
        "    print(f\"El segundo número es menor {D} y el primero es el mayor {U}\"  )\n",
        "else:\n",
        "    print(f\"Ambos números son iguales {U} y {D}\")"
      ],
      "execution_count": 34,
      "outputs": [
        {
          "output_type": "stream",
          "name": "stdout",
          "text": [
            "ingrese números enteros porfavor\n",
            "Ingrese un número entero 74\n",
            "Ingrese otro número entero 78\n",
            "El primer número menor 74 es y el segundo el mayor 78\n"
          ]
        }
      ]
    },
    {
      "cell_type": "markdown",
      "metadata": {
        "id": "Yk2Nfi6TN7c2"
      },
      "source": [
        "2. Hacer un programa que solicite 3 números enteros diferentes entre sí y que imprima cuál de los 3 es el mayor."
      ]
    },
    {
      "cell_type": "code",
      "metadata": {
        "colab": {
          "base_uri": "https://localhost:8080/"
        },
        "id": "Uph_quOPOA90",
        "outputId": "3f534537-5f62-4544-ae57-775c4a861a0f"
      },
      "source": [
        "print(\"Los número ingresados deben ser diferentes entre si\")\n",
        "U = int(input(\"Ingrese el primer número entero \"))\n",
        "D = int(input(\"Ingrese el segundo número entero \"))\n",
        "T = int(input(\"Ingrese el tercer número entero \"))\n",
        "\n",
        "if U > D > T:\n",
        "    print(f\"El primer número es mayor {U}\")\n",
        "elif U < D > T:\n",
        "    print(f\"El segundo número es mayor {D}\")\n",
        "elif U < D < T:\n",
        "    print(f\"El tercer número es mayor {T}\")\n",
        "else:\n",
        "    print(\"los números deben ser diferentes\")"
      ],
      "execution_count": 37,
      "outputs": [
        {
          "output_type": "stream",
          "name": "stdout",
          "text": [
            "Los número ingresados deben ser diferentes entre si\n",
            "Ingrese el primer número entero 2\n",
            "Ingrese el segundo número entero 6\n",
            "Ingrese el tercer número entero 89\n",
            "El tercer número es mayor 89\n"
          ]
        }
      ]
    },
    {
      "cell_type": "markdown",
      "metadata": {
        "id": "f22C4yi6R6Rt"
      },
      "source": [
        "3. Hacer un programa que solicite 3 números enteros diferentes entre sí y que imprima cuál de los 3 es el menor."
      ]
    },
    {
      "cell_type": "code",
      "metadata": {
        "colab": {
          "base_uri": "https://localhost:8080/"
        },
        "id": "KhqmjZBQR5J6",
        "outputId": "966353ac-89a7-4d94-aeb7-792adfc017fa"
      },
      "source": [
        "print(\"Los número ungresados deben ser diferentes entre si y enteros\")\n",
        "U = int(input(\"Ingrese el primer número entero \"))\n",
        "D = int(input(\"Ingrese el segundo número entero \"))\n",
        "T = int(input(\"Ingrese el tercer número entero \"))\n",
        "\n",
        "if U < D < T:\n",
        "    print(f\"El primer número es el menor {U}\")\n",
        "elif U > D < T:\n",
        "    print(f\"El segundo número es el menor {D}\")\n",
        "elif T < D < U:\n",
        "    print(f\"El tercer número es el menor {T}\")\n",
        "else:\n",
        "    print(\"los números deben ser diferentes\")"
      ],
      "execution_count": 40,
      "outputs": [
        {
          "output_type": "stream",
          "name": "stdout",
          "text": [
            "Los número ungresados deben ser diferentes entre si y enteros\n",
            "Ingrese el primer número entero 45\n",
            "Ingrese el segundo número entero 32\n",
            "Ingrese el tercer número entero 0\n",
            "El tercer número es el menor 0\n"
          ]
        }
      ]
    },
    {
      "cell_type": "markdown",
      "metadata": {
        "id": "G1dT_1u8aPJG"
      },
      "source": [
        "\n",
        " 4. Hacer un programa que solicite 4 números enteros diferentes entre sí y que imprima a la salida cuál de ellos es el menor y cuál de ellos es el mayor."
      ]
    },
    {
      "cell_type": "code",
      "metadata": {
        "colab": {
          "base_uri": "https://localhost:8080/"
        },
        "id": "86EBSi6l3HqR",
        "outputId": "8062f4bd-22d7-47d0-effe-71d34270a97b"
      },
      "source": [
        "print(\"Los número Ingresados deben ser diferentes entre si y que sean enteros\")\n",
        "U = int(input(\"Ingrese el primer número entero \"))\n",
        "D = int(input(\"Ingrese el segundo número entero \"))\n",
        "T = int(input(\"Ingrese el tercer número entero \"))\n",
        "C = int(input(\"Ingrese el cuarto número entero \"))\n",
        "\n",
        "if U < C < D  and U < T < D:\n",
        "    print(f\"El primer número es el menor {U} y El segundo es el mayor {D}\")\n",
        "elif U < D < T and U < C < T:\n",
        "    print(f\"El primer número es el menor {U} y El tercero es el mayor {T}\")\n",
        "elif U < D < C and U < T < C:\n",
        "    print(f\"El primer número es el menor {U} y el cuarto es el mayor {C}\")\n",
        "\n",
        "elif D < T < U and  D < C < U:\n",
        "    print(f\"El segundo número es el menor {D} y El primero es el mayor {U}\")\n",
        "elif D < U < T and D < C < T:\n",
        "        print(f\"El segundo número es el menor {D} y El tercero es el mayor {T}\")\n",
        "elif D < T < C and D < U < C:\n",
        "        print(f\"El segundo número es el menor {D} y El cuarto es el mayor {C}\")\n",
        "\n",
        "elif T < D < U and T < C < U:\n",
        "    print(f\"El tercer número es el menor {T} y El primero es el mayor {U}\")\n",
        "elif T < U < D and T < C < D:\n",
        "    print(f\"El tercer número es el menor {T} y El segundo es el mayor {D}\")\n",
        "elif T < D < C and T < U < C:\n",
        "    print(f\"El tercer número es el menor {T} y El cuarto es el mayor {C}\")\n",
        "\n",
        "elif C < T < U and C < D < U:\n",
        "    print(f\"El cuarto número es el menor {C} y El primero es el mayor {U}\")\n",
        "elif C < U < D and C < T < D:\n",
        "    print(f\"El cuarto número es el menor {C} y El segundo es el mayor {D}\")\n",
        "elif C < U < T and C < D < T:\n",
        "    print(f\"El cuarto número es el menor {C} y El tercero es el mayor {T}\")\n",
        "else:\n",
        "    print(\"los números deben ser diferentes y enteros\")"
      ],
      "execution_count": 28,
      "outputs": [
        {
          "output_type": "stream",
          "name": "stdout",
          "text": [
            "Los número Ingresados deben ser diferentes entre si y que sean enteros\n",
            "Ingrese el primer número entero 59\n",
            "Ingrese el segundo número entero 4\n",
            "Ingrese el tercer número entero 80\n",
            "Ingrese el cuarto número entero 6\n",
            "El segundo número es el menor 4 y El tercero es el mayor 80\n"
          ]
        }
      ]
    }
  ]
}