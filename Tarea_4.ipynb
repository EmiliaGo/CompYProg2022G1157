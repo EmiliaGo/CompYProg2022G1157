{
  "nbformat": 4,
  "nbformat_minor": 0,
  "metadata": {
    "colab": {
      "name": "Tarea_4.ipynb",
      "provenance": [],
      "authorship_tag": "ABX9TyMfZhHT5XUamUohEWSxuNrM",
      "include_colab_link": true
    },
    "kernelspec": {
      "name": "python3",
      "display_name": "Python 3"
    },
    "language_info": {
      "name": "python"
    }
  },
  "cells": [
    {
      "cell_type": "markdown",
      "metadata": {
        "id": "view-in-github",
        "colab_type": "text"
      },
      "source": [
        "<a href=\"https://colab.research.google.com/github/EmiliaGo/CompYProg2022G1157/blob/main/Tarea_4.ipynb\" target=\"_parent\"><img src=\"https://colab.research.google.com/assets/colab-badge.svg\" alt=\"Open In Colab\"/></a>"
      ]
    },
    {
      "cell_type": "markdown",
      "metadata": {
        "id": "YSfye_9PeU5h"
      },
      "source": [
        "# Tarea 4 "
      ]
    },
    {
      "cell_type": "code",
      "metadata": {
        "colab": {
          "base_uri": "https://localhost:8080/"
        },
        "id": "CCMwI5s49QQr",
        "outputId": "6e88f736-7dbb-4ace-aa67-d34c547cc550"
      },
      "source": [
        "print (\"Opción 1\")\n",
        "uno=\"\"\"E E E E   M       M  I  L      I      A\n",
        "\"\"\"\n",
        "dos=\"\"\"E         M M   M M  I  L      I     A A\n",
        "\"\"\"\n",
        "tres=\"\"\"E E E     M   M   M  I  L      I    A   A\n",
        "\"\"\"\n",
        "cua=\"\"\"E         M       M  I  L      I   A A A A\n",
        "\"\"\"\n",
        "cinco=\"\"\"E E E E   M       M  I  L L L  I  A       A\n",
        "\"\"\"\n",
        "\n",
        "print (\"\\nNombre:\")\n",
        "print (uno, end=\"\")\n",
        "print (dos, end=\"\")\n",
        "print (\"{}\".format (tres), end=\"\")\n",
        "print (f\"{cua}\", end=\"\")\n",
        "print (\"{0}\".format (cinco))"
      ],
      "execution_count": 46,
      "outputs": [
        {
          "output_type": "stream",
          "name": "stdout",
          "text": [
            "Opción 1\n",
            "\n",
            "Nombre:\n",
            "E E E E   M       M  I  L      I      A\n",
            "E         M M   M M  I  L      I     A A\n",
            "E E E     M   M   M  I  L      I    A   A\n",
            "E         M       M  I  L      I   A A A A\n",
            "E E E E   M       M  I  L L L  I  A       A\n",
            "\n"
          ]
        }
      ]
    },
    {
      "cell_type": "code",
      "metadata": {
        "colab": {
          "base_uri": "https://localhost:8080/"
        },
        "id": "EZOxioLlifgV",
        "outputId": "fb6815e1-0750-4d37-f006-c49aba7eae0a"
      },
      "source": [
        "print (\"Opción 2\")\n",
        "e = \"\"\"\n",
        "E E E E \n",
        "E      \n",
        "E E E    \n",
        "E        \n",
        "E E E E  \"\"\"\n",
        "\n",
        "m = \"\"\"\n",
        "M       M  \n",
        "M M   M M \n",
        "M   M   M\n",
        "M       M  \n",
        "M       M  \"\"\"\n",
        "\n",
        "i = \"\"\"\n",
        "I I I\n",
        "  I\n",
        "  I\n",
        "  I\n",
        "I I I \"\"\"\n",
        "\n",
        "l = \"\"\"\n",
        "L\n",
        "L\n",
        "L\n",
        "L\n",
        "L L L \"\"\"\n",
        "\n",
        "a = \"\"\"\n",
        "    A\n",
        "   A A\n",
        "  A   A\n",
        " A A A A\n",
        "A       A  \"\"\"\n",
        "\n",
        "print (\"\\nNombre: \"+ e)\n",
        "print (m)\n",
        "print (\"{}\".format (i))\n",
        "print (f\"{l}\")\n",
        "print (\"{5}\".format (e,m,i,l,i,a))"
      ],
      "execution_count": 40,
      "outputs": [
        {
          "output_type": "stream",
          "name": "stdout",
          "text": [
            "Opción 1\n",
            "\n",
            "Nombre: \n",
            "E E E E \n",
            "E      \n",
            "E E E    \n",
            "E        \n",
            "E E E E  \n",
            "\n",
            "M       M  \n",
            "M M   M M \n",
            "M   M   M\n",
            "M       M  \n",
            "M       M  \n",
            "\n",
            "I I I\n",
            "  I\n",
            "  I\n",
            "  I\n",
            "I I I \n",
            "\n",
            "L\n",
            "L\n",
            "L\n",
            "L\n",
            "L L L \n",
            "\n",
            "    A\n",
            "   A A\n",
            "  A   A\n",
            " A A A A\n",
            "A       A  \n"
          ]
        }
      ]
    },
    {
      "cell_type": "markdown",
      "metadata": {
        "id": "Sm4gWq8suCYM"
      },
      "source": [
        ""
      ]
    },
    {
      "cell_type": "code",
      "metadata": {
        "id": "mhWLf3Q1v8r6"
      },
      "source": [
        ""
      ],
      "execution_count": null,
      "outputs": []
    }
  ]
}