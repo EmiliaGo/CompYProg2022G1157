{
  "nbformat": 4,
  "nbformat_minor": 0,
  "metadata": {
    "colab": {
      "name": "Fundamentos2_Cyp_1157:11/11/21.ipynb",
      "provenance": [],
      "toc_visible": true,
      "authorship_tag": "ABX9TyNDWYeRwIyR7oSZ3kBPnXQT",
      "include_colab_link": true
    },
    "kernelspec": {
      "name": "python3",
      "display_name": "Python 3"
    },
    "language_info": {
      "name": "python"
    }
  },
  "cells": [
    {
      "cell_type": "markdown",
      "metadata": {
        "id": "view-in-github",
        "colab_type": "text"
      },
      "source": [
        "<a href=\"https://colab.research.google.com/github/EmiliaGo/CompYProg2022G1157/blob/main/Fundamentos2_Cyp_1157_11_11_21.ipynb\" target=\"_parent\"><img src=\"https://colab.research.google.com/assets/colab-badge.svg\" alt=\"Open In Colab\"/></a>"
      ]
    },
    {
      "cell_type": "markdown",
      "metadata": {
        "id": "nz1Kujo_Fdmm"
      },
      "source": [
        "# Tipos de datos estructurados de python\n",
        "1. Lista\n",
        "2. Tuplas\n",
        "3. Diccionarios\n",
        "4. Conjuntos(opcional)"
      ]
    },
    {
      "cell_type": "code",
      "metadata": {
        "id": "0PDG2w_LX6s6"
      },
      "source": [
        ""
      ],
      "execution_count": null,
      "outputs": []
    },
    {
      "cell_type": "markdown",
      "metadata": {
        "id": "uNOpt8_cFqbG"
      },
      "source": [
        "# Listas\n",
        "- Tipo de dato que agrupa variables o valores \n",
        "- Estructura secuencial (undexados empezando por 0)\n",
        "- Se declara de dos formas\n",
        "  - usando [ ]\n",
        "  - usando list ()\n",
        "  - Usando GENERADOR\n",
        "- Puede contener tipos de datos diversos(en otros lenguajes de prog. no es posible de forma directa)\n",
        "- Los elemntos internos se seleccionan [ ]\n",
        "- Soporta slicing\n",
        "- Son mutables (pueden ser modificados)\n",
        "- Al ser un clase contiene muchos metodos utiles\n",
        "- GENERADORES [var for x in range()]"
      ]
    },
    {
      "cell_type": "code",
      "metadata": {
        "colab": {
          "base_uri": "https://localhost:8080/"
        },
        "id": "pcFCac3UGui1",
        "outputId": "6481434a-350c-47fc-9b9f-d66c4997567c"
      },
      "source": [
        "numeros = [10,5,2,3,1]\n",
        "print(numeros)\n",
        "\n",
        "numeros2 = list()\n",
        "numeros2.append(10)\n",
        "#Agrega datos\n",
        "numeros2.append(5)\n",
        "numeros2.append(2)\n",
        "numeros2.append(3)\n",
        "print(numeros2)\n",
        "\n",
        "\n",
        "numeros[2] = 20\n",
        "print(numeros)\n",
        "numeros[4] = 33\n",
        "print(numeros)\n",
        "numeros[-1] = 33\n",
        "print(numeros)"
      ],
      "execution_count": null,
      "outputs": [
        {
          "output_type": "stream",
          "name": "stdout",
          "text": [
            "[10, 5, 2, 3, 1]\n",
            "[10, 5, 2, 3]\n",
            "[10, 5, 20, 3, 1]\n",
            "[10, 5, 20, 3, 33]\n",
            "[10, 5, 20, 3, 33]\n"
          ]
        }
      ]
    },
    {
      "cell_type": "code",
      "metadata": {
        "colab": {
          "base_uri": "https://localhost:8080/"
        },
        "id": "xohr4baNIkI8",
        "outputId": "0ebf2088-8b85-4875-9b91-fa356d96868a"
      },
      "source": [
        "# Tipos diversos\n",
        "\n",
        "cosas =[12,2,True,\"José\",1.57,[\"pera\",\"kiwi\",\"uva\"]]\n",
        "print(cosas)\n",
        "print(cosas[1])\n",
        "print(cosas[4])\n",
        "print(cosas[5])\n",
        "print(cosas[5][1])\n",
        "print(cosas[3][1:3])\n",
        "cosas[3] = cosas[3].upper()\n",
        "print(cosas)"
      ],
      "execution_count": null,
      "outputs": [
        {
          "output_type": "stream",
          "name": "stdout",
          "text": [
            "[12, 2, True, 'José', 1.57, ['pera', 'kiwi', 'uva']]\n",
            "2\n",
            "1.57\n",
            "['pera', 'kiwi', 'uva']\n",
            "kiwi\n",
            "os\n",
            "[12, 2, True, 'JOSÉ', 1.57, ['pera', 'kiwi', 'uva']]\n"
          ]
        }
      ]
    },
    {
      "cell_type": "code",
      "metadata": {
        "colab": {
          "base_uri": "https://localhost:8080/"
        },
        "id": "9_LGarmGL3He",
        "outputId": "66210e58-973d-4c9f-f8df-eb3b320fc88b"
      },
      "source": [
        "numero=[1,2,3,4,5,6,7,8,9,10,11]\n",
        "print(numeros)\n",
        "\n",
        "#slicing\n",
        "#1.-4 al 8\n",
        "print(numero[3:8])\n",
        "\n",
        "#2.- [9,10]\n",
        "print(numero[8:10])\n",
        "print(numero[-3:-1])\n",
        "\n",
        "#3.- imprimir la lista en orden inverso\n",
        "print(numero[::-1])\n"
      ],
      "execution_count": null,
      "outputs": [
        {
          "output_type": "stream",
          "name": "stdout",
          "text": [
            "[10, 5, 20, 3, 33]\n",
            "[4, 5, 6, 7, 8]\n",
            "[9, 10]\n",
            "[9, 10]\n",
            "[11, 10, 9, 8, 7, 6, 5, 4, 3, 2, 1]\n"
          ]
        }
      ]
    },
    {
      "cell_type": "code",
      "metadata": {
        "colab": {
          "base_uri": "https://localhost:8080/"
        },
        "id": "SBJsAruXKbX3",
        "outputId": "d9b00a1b-dd13-47a0-d04c-56abf67bac07"
      },
      "source": [
        "#crear una lista con un generador\n",
        "\n",
        "numeros = [x for x in range(101)]\n",
        "print(numeros)\n",
        "numeros = [x*3 for x in range(101)]\n",
        "print(numeros)"
      ],
      "execution_count": null,
      "outputs": [
        {
          "output_type": "stream",
          "name": "stdout",
          "text": [
            "[0, 1, 2, 3, 4, 5, 6, 7, 8, 9, 10, 11, 12, 13, 14, 15, 16, 17, 18, 19, 20, 21, 22, 23, 24, 25, 26, 27, 28, 29, 30, 31, 32, 33, 34, 35, 36, 37, 38, 39, 40, 41, 42, 43, 44, 45, 46, 47, 48, 49, 50, 51, 52, 53, 54, 55, 56, 57, 58, 59, 60, 61, 62, 63, 64, 65, 66, 67, 68, 69, 70, 71, 72, 73, 74, 75, 76, 77, 78, 79, 80, 81, 82, 83, 84, 85, 86, 87, 88, 89, 90, 91, 92, 93, 94, 95, 96, 97, 98, 99, 100]\n",
            "[0, 3, 6, 9, 12, 15, 18, 21, 24, 27, 30, 33, 36, 39, 42, 45, 48, 51, 54, 57, 60, 63, 66, 69, 72, 75, 78, 81, 84, 87, 90, 93, 96, 99, 102, 105, 108, 111, 114, 117, 120, 123, 126, 129, 132, 135, 138, 141, 144, 147, 150, 153, 156, 159, 162, 165, 168, 171, 174, 177, 180, 183, 186, 189, 192, 195, 198, 201, 204, 207, 210, 213, 216, 219, 222, 225, 228, 231, 234, 237, 240, 243, 246, 249, 252, 255, 258, 261, 264, 267, 270, 273, 276, 279, 282, 285, 288, 291, 294, 297, 300]\n"
          ]
        }
      ]
    },
    {
      "cell_type": "markdown",
      "metadata": {
        "id": "H-6NkijXQcns"
      },
      "source": [
        "# Funcion range ()\n",
        "-tiene los mismos componentes que slicing \n",
        "\n",
        "ini,stop,incremento\n",
        "\n",
        "range(1,101,1)"
      ]
    },
    {
      "cell_type": "code",
      "metadata": {
        "colab": {
          "base_uri": "https://localhost:8080/"
        },
        "id": "Bc98xCAzQ29L",
        "outputId": "f2b1406b-76ec-4e2d-80ea-c77acdac134d"
      },
      "source": [
        "numeros = [x for x in range(50,101)]\n",
        "print(numeros)\n",
        "numeros = [x for x in range(50,101,2)]\n",
        "print(numeros)"
      ],
      "execution_count": null,
      "outputs": [
        {
          "output_type": "stream",
          "name": "stdout",
          "text": [
            "[50, 51, 52, 53, 54, 55, 56, 57, 58, 59, 60, 61, 62, 63, 64, 65, 66, 67, 68, 69, 70, 71, 72, 73, 74, 75, 76, 77, 78, 79, 80, 81, 82, 83, 84, 85, 86, 87, 88, 89, 90, 91, 92, 93, 94, 95, 96, 97, 98, 99, 100]\n",
            "[50, 52, 54, 56, 58, 60, 62, 64, 66, 68, 70, 72, 74, 76, 78, 80, 82, 84, 86, 88, 90, 92, 94, 96, 98, 100]\n"
          ]
        }
      ]
    },
    {
      "cell_type": "markdown",
      "metadata": {
        "id": "PBubuOU7RJas"
      },
      "source": [
        "# Metodos disponibles de una lista"
      ]
    },
    {
      "cell_type": "code",
      "metadata": {
        "colab": {
          "base_uri": "https://localhost:8080/"
        },
        "id": "xCSjMp_nRO7l",
        "outputId": "bd4833cd-bf4f-4971-d503-bcdaf6f24e09"
      },
      "source": [
        "dir(list)\n"
      ],
      "execution_count": null,
      "outputs": [
        {
          "output_type": "execute_result",
          "data": {
            "text/plain": [
              "['__add__',\n",
              " '__class__',\n",
              " '__contains__',\n",
              " '__delattr__',\n",
              " '__delitem__',\n",
              " '__dir__',\n",
              " '__doc__',\n",
              " '__eq__',\n",
              " '__format__',\n",
              " '__ge__',\n",
              " '__getattribute__',\n",
              " '__getitem__',\n",
              " '__gt__',\n",
              " '__hash__',\n",
              " '__iadd__',\n",
              " '__imul__',\n",
              " '__init__',\n",
              " '__init_subclass__',\n",
              " '__iter__',\n",
              " '__le__',\n",
              " '__len__',\n",
              " '__lt__',\n",
              " '__mul__',\n",
              " '__ne__',\n",
              " '__new__',\n",
              " '__reduce__',\n",
              " '__reduce_ex__',\n",
              " '__repr__',\n",
              " '__reversed__',\n",
              " '__rmul__',\n",
              " '__setattr__',\n",
              " '__setitem__',\n",
              " '__sizeof__',\n",
              " '__str__',\n",
              " '__subclasshook__',\n",
              " 'append',\n",
              " 'clear',\n",
              " 'copy',\n",
              " 'count',\n",
              " 'extend',\n",
              " 'index',\n",
              " 'insert',\n",
              " 'pop',\n",
              " 'remove',\n",
              " 'reverse',\n",
              " 'sort']"
            ]
          },
          "metadata": {},
          "execution_count": 35
        }
      ]
    },
    {
      "cell_type": "code",
      "metadata": {
        "colab": {
          "base_uri": "https://localhost:8080/"
        },
        "id": "FYvnQyFSSZEc",
        "outputId": "f9e4c243-7325-4544-9677-6bfdc4769c36"
      },
      "source": [
        "numeros = [4,1,15,8,22,34,50,15]\n",
        "print(numeros)\n",
        "numeros.append(99)\n",
        "#.append agrega\n",
        "print(numeros)\n",
        "\n",
        "#numeros.clear()\n",
        "#Alternativa \n",
        "#numeros=[]\n",
        "print(numeros)\n",
        "\n",
        "frutas = [\"uvas\",\"kiwis\",\"manzana\"]\n",
        "copia = frutas\n",
        "print(frutas)\n",
        "print(copia)\n",
        "frutas.append(\"Naranjas\")\n",
        "print(frutas)\n",
        "print(copia)\n",
        "\n",
        "colores =[\"rojo\",\"azul\",\"blanco\"]\n",
        "copia2 = colores.copy()\n",
        "print(colores)\n",
        "print(copia2)\n",
        "colores.append(\"verde\")\n",
        "print(colores)\n",
        "print(copia2)\n",
        "\n",
        "print(\"Numero de veces que aprece el 15\",numeros.count(15))\n",
        "\n",
        "#extend\n",
        "nombres = [\"jose\",\"pedro\",\"karina\"]\n",
        "otrosnombres = [\"josue\",\"diana\",\"dalia\"]\n",
        "nombres= nombres + otrosnombres\n",
        "print(nombres)\n",
        "print(otrosnombres)\n",
        "\n",
        "#lo mismo pero con extend\n",
        "otrosnombres.extend([\"Jesus\",\"Maria\",\"jose\"])\n",
        "print(otrosnombres)\n",
        "print(\"Jesus esta en la posicion:\", otrosnombres.index(\"Jesus\"))\n",
        "otrosnombres.insert(4,\"Espiritu santo\")\n",
        "print(otrosnombres)\n",
        "\n",
        "#pop\n",
        "resultado = otrosnombres.pop()\n",
        "print(otrosnombres)\n",
        "print(resultado)\n"
      ],
      "execution_count": null,
      "outputs": [
        {
          "output_type": "stream",
          "name": "stdout",
          "text": [
            "[4, 1, 15, 8, 22, 34, 50, 15]\n",
            "[4, 1, 15, 8, 22, 34, 50, 15, 99]\n",
            "[4, 1, 15, 8, 22, 34, 50, 15, 99]\n",
            "['uvas', 'kiwis', 'manzana']\n",
            "['uvas', 'kiwis', 'manzana']\n",
            "['uvas', 'kiwis', 'manzana', 'Naranjas']\n",
            "['uvas', 'kiwis', 'manzana', 'Naranjas']\n",
            "['rojo', 'azul', 'blanco']\n",
            "['rojo', 'azul', 'blanco']\n",
            "['rojo', 'azul', 'blanco', 'verde']\n",
            "['rojo', 'azul', 'blanco']\n",
            "Numero de veces que aprece el 15 2\n",
            "['jose', 'pedro', 'karina', 'josue', 'diana', 'dalia']\n",
            "['josue', 'diana', 'dalia']\n",
            "['josue', 'diana', 'dalia', 'Jesus', 'Maria', 'jose']\n",
            "Jesus esta en la posicion: 3\n",
            "['josue', 'diana', 'dalia', 'Jesus', 'Espiritu santo', 'Maria', 'jose']\n",
            "['josue', 'diana', 'dalia', 'Jesus', 'Espiritu santo', 'Maria']\n",
            "jose\n"
          ]
        }
      ]
    },
    {
      "cell_type": "markdown",
      "metadata": {
        "id": "cu222Qdpv8AT"
      },
      "source": [
        "# Tuplas\n",
        "### Caracteristicas\n",
        "- Datos agrupados\n",
        "- se declara\n",
        "  - ()\n",
        "  - tuple()\n",
        "- Estructura secuencial, indexada a partie de 0\n",
        "- pueden tener 0 a n elemntos\n",
        "- NO SON MUTABLES (no se pueden eliminar o/y cambiar)\n",
        "- Son buenas para alamacenar informacion de consulta\n",
        "- Pueden almacenar info. de diferentes tipos de datos\n",
        "- Pueden estar anidadas\n",
        "- Tienen métodos útiles\n"
      ]
    },
    {
      "cell_type": "code",
      "metadata": {
        "colab": {
          "base_uri": "https://localhost:8080/"
        },
        "id": "s3uBqkugw87w",
        "outputId": "a7ff4ecb-a910-465f-ff12-d085b819f800"
      },
      "source": [
        "info = (\"juan23\",\"dios123\",\"123.232.1.12\")\n",
        "print( info )\n",
        "print(info[1])\n",
        "#info[1]= \"patito23\"\n",
        "#no es mutable\n",
        "\n",
        "numero= (0,1,2,3,4,5,6,7,8,9,10,11,12,13,14,15)\n",
        "print(numero)\n",
        "print(numero[5:11])\n",
        "\n",
        "cosas=(info , numero)\n",
        "print(cosas)\n",
        "print(cosas[1][5:11:1])\n",
        "print(cosas[0][2][4:7])\n"
      ],
      "execution_count": null,
      "outputs": [
        {
          "output_type": "stream",
          "name": "stdout",
          "text": [
            "('juan23', 'dios123', '123.232.1.12')\n",
            "dios123\n",
            "(0, 1, 2, 3, 4, 5, 6, 7, 8, 9, 10, 11, 12, 13, 14, 15)\n",
            "(5, 6, 7, 8, 9, 10)\n",
            "(('juan23', 'dios123', '123.232.1.12'), (0, 1, 2, 3, 4, 5, 6, 7, 8, 9, 10, 11, 12, 13, 14, 15))\n",
            "(5, 6, 7, 8, 9, 10)\n",
            "232\n"
          ]
        }
      ]
    },
    {
      "cell_type": "markdown",
      "metadata": {
        "id": "TZNyLgGN0uD4"
      },
      "source": [
        "#Metodos de las tuplas\n",
        "###Son los mismos de la lista pero los que no involucren mutabilidad."
      ]
    },
    {
      "cell_type": "code",
      "metadata": {
        "colab": {
          "base_uri": "https://localhost:8080/"
        },
        "id": "WkovdGlK0ldx",
        "outputId": "13510f0f-0385-43f9-9c26-9cf800a73b53"
      },
      "source": [
        "dir(tuple)"
      ],
      "execution_count": null,
      "outputs": [
        {
          "output_type": "execute_result",
          "data": {
            "text/plain": [
              "['__add__',\n",
              " '__class__',\n",
              " '__contains__',\n",
              " '__delattr__',\n",
              " '__dir__',\n",
              " '__doc__',\n",
              " '__eq__',\n",
              " '__format__',\n",
              " '__ge__',\n",
              " '__getattribute__',\n",
              " '__getitem__',\n",
              " '__getnewargs__',\n",
              " '__gt__',\n",
              " '__hash__',\n",
              " '__init__',\n",
              " '__init_subclass__',\n",
              " '__iter__',\n",
              " '__le__',\n",
              " '__len__',\n",
              " '__lt__',\n",
              " '__mul__',\n",
              " '__ne__',\n",
              " '__new__',\n",
              " '__reduce__',\n",
              " '__reduce_ex__',\n",
              " '__repr__',\n",
              " '__rmul__',\n",
              " '__setattr__',\n",
              " '__sizeof__',\n",
              " '__str__',\n",
              " '__subclasshook__',\n",
              " 'count',\n",
              " 'index']"
            ]
          },
          "metadata": {},
          "execution_count": 2
        }
      ]
    },
    {
      "cell_type": "markdown",
      "metadata": {
        "id": "3fqTXj6k2tmy"
      },
      "source": [
        "# Diccionarios\n",
        "### Caracteristicas de los diccionarios\n",
        "- Agrupan datos pero de forma no lineal.\n",
        "- Se declaran con:\n",
        "  - {}\n",
        "  - dict()\n",
        "- Formado por pares del tipo llave:valor, donde: \n",
        "  - llaves es de tipo string (siempre)\n",
        "  - valor puede ser de cualquier tipo de dato, incluyendo los dicionarios\n",
        "- Se selccionan con la llave de la forma: [\"id_llave\"] \n",
        "- Son mutables\n",
        "- Son anidables\n",
        "- Son equivalentes al tipo de dato JSON del lenguaje JavaScript (JS)"
      ]
    },
    {
      "cell_type": "code",
      "metadata": {
        "colab": {
          "base_uri": "https://localhost:8080/"
        },
        "id": "ZHtLq-GZ4KGK",
        "outputId": "81e85cb6-3a9e-4ace-fa5a-cece0debf264"
      },
      "source": [
        "alumno = {\"nombre\":\"Jose\"}\n",
        "print(alumno)\n",
        "print(alumno[\"nombre\"])\n",
        "alumno = {\"nombre\":\"Jose\",\"nc\":\"2129229292\",\"edad\":18}\n",
        "print(\"Edad del alumno =\", alumno[\"edad\"])\n",
        "print(alumno[\"nombre\"].upper())\n",
        "print(alumno)\n",
        "\n",
        "print(\"alumno 2: \")\n",
        "alumno2 = dict() #{ }\n",
        "alumno2[\"nombre\"]=\"jose\"\n",
        "print(alumno2)\n",
        "alumno2[\"nc\"]=\"2129229292\"\n",
        "alumno2[\"edad\"]=18\n",
        "print(alumno2)\n",
        "alumno2[\"edad\"]= alumno2[\"edad\"] + 1\n",
        "print(alumno2)"
      ],
      "execution_count": null,
      "outputs": [
        {
          "output_type": "stream",
          "name": "stdout",
          "text": [
            "{'nombre': 'Jose'}\n",
            "Jose\n",
            "Edad del alumno = 18\n",
            "JOSE\n",
            "{'nombre': 'Jose', 'nc': '2129229292', 'edad': 18}\n",
            "alumno 2: \n",
            "{'nombre': 'jose'}\n",
            "{'nombre': 'jose', 'nc': '2129229292', 'edad': 18}\n",
            "{'nombre': 'jose', 'nc': '2129229292', 'edad': 19}\n"
          ]
        }
      ]
    },
    {
      "cell_type": "code",
      "metadata": {
        "colab": {
          "base_uri": "https://localhost:8080/"
        },
        "id": "GDGarFw-8Ov5",
        "outputId": "0262c0df-8f62-4531-d6a7-8749eb71002e"
      },
      "source": [
        "cliente= {\"id\":\"CT2121\",\n",
        "           \"nombre\":\"José Pedroza Rosales\",\n",
        "           \"telefono\":\"casa=554456565 cel=0445567767\"}\n",
        "print(cliente)\n",
        "\n",
        "cliente= {\"id\":\"CT2121\",\n",
        "           \"nombre\": {\n",
        "               \"nombres\": [\"José\",\"Eduardo\"],\n",
        "               \"paterno\":\"Pedroza\",\n",
        "               \"materno\":\"Rosales\"\n",
        "           },\n",
        "            \"telefonos\" : {\n",
        "                \"casa\" : \"55-6632-4234\",\n",
        "                \"trabajo\":\"55-443-3232\" ,\n",
        "                \"celular\":\"044-55-234234\"\n",
        "            } ,\n",
        "           \"productos\":{\n",
        "               \"ahorros\":{\"numero_cuenta\":\"7788\",\"ahorro\":2500.5},\n",
        "               \"t_credito\": [\n",
        "                            {\"tipo\":\"debito\",\"saldo\":100000.5},\n",
        "                            {\"tipo\":\"credito preferente\",\"limite\":250000.5},\n",
        "                            {\"tipo\":\"lite\",\"limite\":15000.5}\n",
        "               ]\n",
        "           },\n",
        "           \"direccion\":{\n",
        "               \"calle\":\"Av.central\",\n",
        "               \"numero\":1245,\n",
        "               \"colonia\":\"impulsora\",\n",
        "               \"delagacion\":\"neza\",\n",
        "               \"estado\":{\n",
        "                   \"clave\":15,\n",
        "                   \"nombre_corto\":\"EdoMex\",\n",
        "                   \"nombre\":\"Estado de Mexico\"\n",
        "           }\n",
        "           }   }\n",
        "\n",
        "#solicita numero de casa\n",
        "print(cliente[\"telefonos\"][\"casa\"])\n",
        "\n",
        "#imprimir cuanto tine de ahorro\n",
        "print(cliente[\"productos\"][\"ahorros\"][\"ahorro\"])\n",
        "\n",
        "#limite de credito de la tarjeta lite\n",
        "print(cliente[\"productos\"][\"t_credito\"][2][\"limite\"])\n",
        "\n",
        "#estado donde vive el cliente en mayusculas\n",
        "print(cliente[\"direccion\"][\"estado\"][\"nombre\"].upper())\n",
        "cliente[\"productos\"][\"ahorros\"][\"ahorro\"] -= 1500.0\n",
        "print(cliente[\"productos\"])"
      ],
      "execution_count": 11,
      "outputs": [
        {
          "output_type": "stream",
          "name": "stdout",
          "text": [
            "{'id': 'CT2121', 'nombre': 'José Pedroza Rosales', 'telefono': 'casa=554456565 cel=0445567767'}\n",
            "55-6632-4234\n",
            "2500.5\n",
            "15000.5\n",
            "ESTADO DE MEXICO\n",
            "{'ahorros': {'numero_cuenta': '7788', 'ahorro': 1000.5}, 't_credito': [{'tipo': 'debito', 'saldo': 100000.5}, {'tipo': 'credito preferente', 'limite': 250000.5}, {'tipo': 'lite', 'limite': 15000.5}]}\n"
          ]
        }
      ]
    },
    {
      "cell_type": "markdown",
      "metadata": {
        "id": "cUf-VjXzMktc"
      },
      "source": [
        "#Estructuras de control de programación\n",
        "Se puede crear cualquier tipo de algorimo empleando solamente tres tipos de esctrucuras de control:\n",
        "1. Secuancia:\n",
        "  - La representacion de la memoria de programacion (arquitectura Vonn Newman)\n",
        "2. Selección\n",
        "  - Es la estructura de control que decide si un bloque de programa se ejecuta o no se ejecuta. Tambien permite seleccionar ejecutarun bloque entre un conjunto de opcciones\n",
        "  En resumen tenemos: seleccion simple, seleccion con bifurcacion y seleccion multiple.\n",
        "3. Repetición\n",
        "  - este tipo de estructura nos permite automatizar la ejecución repetitiva de código mientras ciertas condiciones se cumplan, tenemos 3 varianetes de esta estructuras en todos los leng. de programacion.\n",
        "    - Desde...hasta(estructura for)\n",
        "    - haz mientras (estructura while)\n",
        "    - haz y luego validaz mientras (estructura Do-While)\n",
        "\n"
      ]
    },
    {
      "cell_type": "markdown",
      "metadata": {
        "id": "IQSpm68RSFSo"
      },
      "source": [
        "# Selccion simple\n",
        "- documentar\n",
        "\n",
        "la estructura if\n",
        "\n",
        "```\n",
        "if<CONDICION> :\n",
        "  <cuerpo del IF>\n",
        "```\n",
        "\n",
        "**NOTA** Para establecer el cuerpo de una estrucura de control en python se usan los tabuladores a la izq.\n",
        "\n",
        "En otros lenguajes de programacion como java, c, c++... se usan las llaves\n",
        "\n",
        "```\n",
        "int edad=0;\n",
        "printf(\"Dame tu edad \");\n",
        "scanf(\"%i\",edad);\n",
        "if (edad >=18) {\n",
        "  printf(\"ERES MAYOR DE EDAD\");\n",
        "}\n",
        "printf(\"Fin del programa\")\n",
        "```"
      ]
    },
    {
      "cell_type": "code",
      "metadata": {
        "colab": {
          "base_uri": "https://localhost:8080/"
        },
        "id": "7ZBTpXfMSNhZ",
        "outputId": "fa602f1b-b97d-4151-ac3f-2b815680bf01"
      },
      "source": [
        "edad = int(input(\"Dame tu edad \"))\n",
        "print(f\"tecleaste {edad} años\")\n",
        "if edad >=18 :\n",
        "  print(\"ERES MAYOR DE EDAD\")\n",
        "  print(\"algo\")\n",
        "  print(\"algo más\")\n",
        "print(\"Fin del programa\")"
      ],
      "execution_count": 22,
      "outputs": [
        {
          "output_type": "stream",
          "name": "stdout",
          "text": [
            "Dame tu edad 18\n",
            "tecleaste 18 años\n",
            "ERES MAYOR DE EDAD\n",
            "algo\n",
            "algo más\n",
            "Fin del programa\n"
          ]
        }
      ]
    },
    {
      "cell_type": "code",
      "metadata": {
        "colab": {
          "base_uri": "https://localhost:8080/"
        },
        "id": "k6V8ZlM3WS6B",
        "outputId": "1c98f3e6-a38e-4dff-d73b-043c49fb54aa"
      },
      "source": [
        "CAL = float(input(\"Dame tu calificación:\"))\n",
        "if CAL > 8 :\n",
        "  print(\"Aprobado\")\n"
      ],
      "execution_count": 18,
      "outputs": [
        {
          "output_type": "stream",
          "name": "stdout",
          "text": [
            "Dame tu calificación:8.75\n",
            "Aprobado\n"
          ]
        }
      ]
    },
    {
      "cell_type": "code",
      "metadata": {
        "colab": {
          "base_uri": "https://localhost:8080/"
        },
        "id": "5YuV-GR3XSr9",
        "outputId": "7b0eb7c3-77fe-4c58-ad39-fa0e987a1a8a"
      },
      "source": [
        "SUE = float(input(\"Escriba su sueldo:\"))\n",
        "AUM=0\n",
        "NSUE=0\n",
        "if SUE < 1000 :\n",
        "  AUM=SUE*.15\n",
        "  NSUE=SUE+AUM\n",
        "  print(NSUE)\n",
        "  "
      ],
      "execution_count": 21,
      "outputs": [
        {
          "output_type": "stream",
          "name": "stdout",
          "text": [
            "Escriba su sueldo:937.80\n",
            "1078.47\n"
          ]
        }
      ]
    }
  ]
}