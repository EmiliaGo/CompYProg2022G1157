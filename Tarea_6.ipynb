{
  "nbformat": 4,
  "nbformat_minor": 0,
  "metadata": {
    "colab": {
      "name": "Tarea 6.ipynb",
      "provenance": [],
      "collapsed_sections": [],
      "authorship_tag": "ABX9TyO7cJXaBgLpIRnRp2rjcplw",
      "include_colab_link": true
    },
    "kernelspec": {
      "name": "python3",
      "display_name": "Python 3"
    },
    "language_info": {
      "name": "python"
    }
  },
  "cells": [
    {
      "cell_type": "markdown",
      "metadata": {
        "id": "view-in-github",
        "colab_type": "text"
      },
      "source": [
        "<a href=\"https://colab.research.google.com/github/EmiliaGo/CompYProg2022G1157/blob/main/Tarea_6.ipynb\" target=\"_parent\"><img src=\"https://colab.research.google.com/assets/colab-badge.svg\" alt=\"Open In Colab\"/></a>"
      ]
    },
    {
      "cell_type": "code",
      "metadata": {
        "id": "GRiaScY8bo5c",
        "colab": {
          "base_uri": "https://localhost:8080/"
        },
        "outputId": "2bcf9453-66a1-46c4-81e2-4309c6ab2709"
      },
      "source": [
        "# Gonzalez Cortes Emilia Regina 1157\n",
        "# Problema 2.1\n",
        "\n",
        "N = int(input(\"Ingrese el número (entero) de veces que emitio un sonido el grillo por minuto \"))\n",
        "T = 0\n",
        "if N > 0:\n",
        "    T = N/4 + 40\n",
        "    print(\"La temperatura es: \",T)\n",
        "else: \n",
        "    print(\"Debe ser mayor que 0 y/o entero\")\n",
        "print(\"Fin del programa\")"
      ],
      "execution_count": null,
      "outputs": [
        {
          "output_type": "stream",
          "name": "stdout",
          "text": [
            "Ingrese el número (entero) de veces que emitio un sonido el grillo por minuto 25\n",
            "La temperatura es:  46.25\n",
            "Fin del programa\n"
          ]
        }
      ]
    },
    {
      "cell_type": "code",
      "metadata": {
        "colab": {
          "base_uri": "https://localhost:8080/"
        },
        "id": "5WpxLMTWglgF",
        "outputId": "ed03d350-3357-42d1-a0d2-65bc3db08d3d"
      },
      "source": [
        "# Problema 2.2\n",
        "\n",
        "P = int(input(\"Ingrese un número entero \"))\n",
        "Q = int(input(\"Ingrese otro número entero \"))\n",
        "EXP = 0\n",
        "\n",
        "EXP = (P**3)+(Q**4)-(2*(P*P))\n",
        "if EXP < 680:\n",
        "    print(\"Ingreso los sig. valores\", P ,\"y\", Q)\n",
        "print(\"Fin del programa\")"
      ],
      "execution_count": null,
      "outputs": [
        {
          "output_type": "stream",
          "name": "stdout",
          "text": [
            "Ingrese un número entero 2\n",
            "Ingrese otro número entero 4\n",
            "Ingreso los sig. valores 2 y 4\n",
            "Fin del programa\n"
          ]
        }
      ]
    },
    {
      "cell_type": "code",
      "metadata": {
        "colab": {
          "base_uri": "https://localhost:8080/"
        },
        "id": "1g6785y0jEm3",
        "outputId": "48c5bf3f-858d-48f6-98db-d47c457977dc"
      },
      "source": [
        "# Problema 2.3\n",
        "\n",
        "DIS = 0\n",
        "XU = 0\n",
        "XD = 0\n",
        "A = float(input(\"Ingrese un número entero \"))\n",
        "if A != 0:\n",
        "    B = float(input(\"Ingrese un número entero \"))\n",
        "    C = float(input(\"Ingrese un número entero \"))\n",
        "    DIS = (B**2)-(4*A*C)\n",
        "    # print(DIS)\n",
        "    if DIS >= 0:\n",
        "        XU = ((-B)+(DIS**0.5))/(2*A)\n",
        "        XD = ((-B)-(DIS**0.5))/(2*A)\n",
        "        print(\"Las raices reales\", XU, XD)\n",
        "else:\n",
        "    print(\"A debe ser mayor que 0\")\n",
        "print(\"Fin del programa\")"
      ],
      "execution_count": null,
      "outputs": [
        {
          "output_type": "stream",
          "name": "stdout",
          "text": [
            "Ingrese un número entero 3\n",
            "Ingrese un número entero 9\n",
            "Ingrese un número entero 1.5\n",
            "Las raices reales -0.17712434446770464 -2.8228756555322954\n",
            "Fin del programa\n"
          ]
        }
      ]
    },
    {
      "cell_type": "code",
      "metadata": {
        "colab": {
          "base_uri": "https://localhost:8080/"
        },
        "id": "QwnIl4k54iwZ",
        "outputId": "960a14c6-d2c9-4de2-8abf-20495837ba79"
      },
      "source": [
        "# Programa 2.4\n",
        "\n",
        "MATR = int(input(\"Ingrese la matricula \"))\n",
        "CAL1 = float(input(\"Ingrese la 1er calificación \"))\n",
        "CAL2 = float(input(\"Ingrese la 2da calificación \"))\n",
        "CAL3 = float(input(\"Ingrese la 3er calificación \"))\n",
        "CAL4 = float(input(\"Ingrese la 4ta calificación \"))\n",
        "CAL5 = float(input(\"Ingrese la 5ta calificación \"))\n",
        "PROM = 0\n",
        "\n",
        "PROM = (CAL1+CAL2+CAL3+CAL4+CAL5)/5\n",
        "if PROM >= 6:\n",
        "    print(\"Matricula\",MATR, \"Promedio\", PROM, \"Aprobado\")\n",
        "else:\n",
        "    print(MATR, PROM, \"No aprobado\")\n",
        "\n",
        "print(\"Fin del programa\")"
      ],
      "execution_count": null,
      "outputs": [
        {
          "output_type": "stream",
          "name": "stdout",
          "text": [
            "Ingrese la matricula 18240\n",
            "Ingrese la 1er calificación 7\n",
            "Ingrese la 2da calificación 4.60\n",
            "Ingrese la 3er calificación 4.90\n",
            "Ingrese la 4ta calificación 7\n",
            "Ingrese la 5ta calificación 5.60\n",
            "18240 5.82 No aprobado\n",
            "Fin del programa\n"
          ]
        }
      ]
    },
    {
      "cell_type": "code",
      "metadata": {
        "colab": {
          "base_uri": "https://localhost:8080/"
        },
        "id": "99D_BJYfArER",
        "outputId": "568b522e-1262-499a-eb01-56b8f2dd033e"
      },
      "source": [
        "# Problema 2.5\n",
        "\n",
        "NUM = int(input(\"Ingrese un numero entero \"))\n",
        "\n",
        "if NUM > 0:\n",
        "    print(\"es Positivo\")\n",
        "else:\n",
        "    if NUM < 0:\n",
        "        print(\"es Negativo\")\n",
        "    else:\n",
        "        print(\" es Nulo\")\n",
        "print(\"Fin del programa\")\n"
      ],
      "execution_count": null,
      "outputs": [
        {
          "output_type": "stream",
          "name": "stdout",
          "text": [
            "Ingrese un numero entero 5\n",
            "es Positivo\n",
            "Fin del programa\n"
          ]
        }
      ]
    },
    {
      "cell_type": "code",
      "metadata": {
        "colab": {
          "base_uri": "https://localhost:8080/"
        },
        "id": "yv_-SI9RD3f2",
        "outputId": "8eee80ab-5821-496e-d165-e5e180546539"
      },
      "source": [
        "# Problema 2.6\n",
        "\n",
        "A = int(input(\"Ingresa un número entero \"))\n",
        "\n",
        "if A == 0:\n",
        "    print(\"Es nulo\")\n",
        "else:\n",
        "    if (-1)**A > 0:\n",
        "        print(\"Par\")\n",
        "    else:\n",
        "        print(\"Impar\")\n",
        "print(\"Fin del programa\")"
      ],
      "execution_count": null,
      "outputs": [
        {
          "output_type": "stream",
          "name": "stdout",
          "text": [
            "Ingresa un número entero 37\n",
            "Impar\n",
            "Fin del programa\n"
          ]
        }
      ]
    },
    {
      "cell_type": "code",
      "metadata": {
        "colab": {
          "base_uri": "https://localhost:8080/"
        },
        "id": "1pmoV2s0G3yL",
        "outputId": "876df906-1577-4e28-b914-2766688c4e0e"
      },
      "source": [
        "# Problema 2.7\n",
        "\n",
        "print(\"Los números deben ser enteros y diferentes entre si\")\n",
        "A = int(input(\"Ingrese un número \"))\n",
        "B = int(input(\"Ingrese un número \"))\n",
        "C = int(input(\"Ingrese un número \"))\n",
        "if A != B and B != C and C != A:\n",
        "    if A < B:\n",
        "        if B < C:\n",
        "            print(\"Los números están en orden creciente\")\n",
        "        else:\n",
        "            print(\"Los números no estan en orden creciente\")\n",
        "    else:\n",
        "        print(\"Los números no estan en orden creciente\")\n",
        "else:\n",
        "    print(\"Los números deben ser diferentes\")\n",
        "print(\"Fin del programa\")\n"
      ],
      "execution_count": null,
      "outputs": [
        {
          "output_type": "stream",
          "name": "stdout",
          "text": [
            "Los números deben ser enteros y diferentes entre si\n",
            "Ingrese un número 3\n",
            "Ingrese un número 5\n",
            "Ingrese un número 6\n",
            "Los números están en orden creciente\n",
            "Fin del programa\n"
          ]
        }
      ]
    },
    {
      "cell_type": "code",
      "metadata": {
        "colab": {
          "base_uri": "https://localhost:8080/"
        },
        "id": "1J32aXcUK6ni",
        "outputId": "5520f2e9-0e3d-4505-98e8-4d18a5ca85ae"
      },
      "source": [
        "# Problema 2.8\n",
        "\n",
        "COMPRA = float(input(\"Ingrese la cantidad de compra \"))\n",
        "PAGAR = 0\n",
        "\n",
        "if COMPRA < 500:\n",
        "    PAGAR = COMPRA\n",
        "else:\n",
        "    if COMPRA <= 1000:\n",
        "        PAGAR = COMPRA-(COMPRA*0.05)\n",
        "    else:\n",
        "        if COMPRA <= 7000:\n",
        "            PAGAR = COMPRA-(COMPRA*0.11)\n",
        "        else:\n",
        "            if COMPRA <= 15000:\n",
        "                PAGAR = COMPRA-(COMPRA*0.18)\n",
        "            else:\n",
        "                PAGAR = COMPRA-(COMPRA*0.25)\n",
        "print(\"Monto a pagar\", PAGAR)\n",
        "print(\"Fin del programa\")\n"
      ],
      "execution_count": null,
      "outputs": [
        {
          "output_type": "stream",
          "name": "stdout",
          "text": [
            "Ingrese la cantidad de compra 12350.00\n",
            "Monto a pagar 10127.0\n",
            "Fin del programa\n"
          ]
        }
      ]
    },
    {
      "cell_type": "code",
      "metadata": {
        "colab": {
          "base_uri": "https://localhost:8080/"
        },
        "id": "pnMCeNOcY2lm",
        "outputId": "0512790c-07aa-4330-e660-d898bde341bf"
      },
      "source": [
        "# Problemas 2.9\n",
        "\n",
        "PREBAS = float(input(\"Ingresa \"))\n",
        "IMP = 0\n",
        "PRETOT = 0\n",
        "if PREBAS > 500:\n",
        "    IMP = 20*0.30+(PREBAS-40)*0.50\n",
        "else:\n",
        "    if PREBAS > 40:\n",
        "        IMP = 20*0.30+(PREBAS-40)*0.40\n",
        "    else:\n",
        "        if PREBAS > 20:\n",
        "            IMP = 20*0.30+(PREBAS-40)*0.30\n",
        "        else:\n",
        "            IMP = 0\n",
        "PRETOT = PREBAS + IMP\n",
        "print(\"Costo básico \",PREBAS) \n",
        "#[round(PRETOT), 2]\n",
        "print(\"Costo total \", PRETOT)\n",
        "print(\"Fin del programa\")"
      ],
      "execution_count": null,
      "outputs": [
        {
          "output_type": "stream",
          "name": "stdout",
          "text": [
            "Ingresa 527.50\n",
            "Costo básico  527.5\n",
            "Costo total  777.25\n",
            "Fin del programa\n"
          ]
        }
      ]
    },
    {
      "cell_type": "code",
      "metadata": {
        "colab": {
          "base_uri": "https://localhost:8080/"
        },
        "id": "TOYjmzN6MwTu",
        "outputId": "c8d4c3b2-5774-4690-a3eb-ffbdc66f6fb3"
      },
      "source": [
        "# Problema 2.10\n",
        "\n",
        "A = int(input(\"Ingrese un número (A) \"))\n",
        "B = int(input(\"Ingrese un número (B) \"))\n",
        "C = int(input(\"Ingrese un número (C) \"))\n",
        "\n",
        "if A > B:\n",
        "    if A > C:\n",
        "        print(\"A es el mayor\")\n",
        "    else:\n",
        "        if A == C:\n",
        "            print(\"A y C son los mayores\")\n",
        "        else:\n",
        "            print(\"C es el mayor\")\n",
        "else:\n",
        "    if A == B:\n",
        "        if A > C:\n",
        "            print(\"A y B son mayores\")\n",
        "        else:\n",
        "            if A == C:\n",
        "                print(\"A, B y C son iguales\")\n",
        "            else:\n",
        "                print(\"C es el mayor\")\n",
        "    else:\n",
        "        if B > C:\n",
        "            print(\"B es el mayor\")\n",
        "        else:\n",
        "            if B == C:\n",
        "                print(\"B y C son los mayores\")\n",
        "            else:\n",
        "                print(\"C es el mayor\")\n",
        "print(\"Fin del programa\")"
      ],
      "execution_count": null,
      "outputs": [
        {
          "output_type": "stream",
          "name": "stdout",
          "text": [
            "Ingrese un número (A) 4\n",
            "Ingrese un número (B) 5\n",
            "Ingrese un número (C) 7\n",
            "C es el mayor\n",
            "Fin del programa\n"
          ]
        }
      ]
    },
    {
      "cell_type": "code",
      "metadata": {
        "colab": {
          "base_uri": "https://localhost:8080/"
        },
        "id": "1_7g2zBHemtl",
        "outputId": "9832eee1-176f-4b77-a907-bcd46bb64be4"
      },
      "source": [
        "# Problema 2.11\n",
        "\n",
        "#print(\"Clave 12, América del norte. Clave 15, América centro. Clave 18, América del sur\")\n",
        "#print(\"Clave 19, Europa. Clave 23, Asia. Clave 25, Africa. Clave 29, Oceania\")\n",
        "CLAVE = int(input(\"Ingrese la clave de la zona \"))\n",
        "NUMIN = int(input(\"Ingrese los minutos \"))\n",
        "COST = 0\n",
        "\n",
        "if CLAVE == 12:\n",
        "    COST = NUMIN*2\n",
        "elif CLAVE == 15:\n",
        "    COST = NUMIN*2.2\n",
        "elif CLAVE == 18:\n",
        "    COST = NUMIN*4.5\n",
        "elif CLAVE == 19:\n",
        "    COST = NUMIN*3.5\n",
        "elif CLAVE == 23 or CLAVE == 25:\n",
        "    COST = NUMIN*6\n",
        "elif CLAVE == 29:\n",
        "    COST = NUMIN*5\n",
        "else:\n",
        "    print(\"Clave no valida\") \n",
        "print(\"Costo total de la llamada\", COST)\n",
        "print(\"Fin del programa\")\n"
      ],
      "execution_count": null,
      "outputs": [
        {
          "output_type": "stream",
          "name": "stdout",
          "text": [
            "Ingrese la clave de la zona 15\n",
            "Ingrese los minutos 4\n",
            "Costo total de la llamada 8.8\n",
            "Fin del programa\n"
          ]
        }
      ]
    },
    {
      "cell_type": "code",
      "metadata": {
        "colab": {
          "base_uri": "https://localhost:8080/"
        },
        "id": "qt3-2G5OvGSK",
        "outputId": "d72eb406-ecd3-4d9a-c655-2c56a2e5fa83"
      },
      "source": [
        "# Problema 2.12\n",
        "\n",
        "SUE = float(input(\"Sueldo básico \"))\n",
        "CATE = int(input(\"Ingrese la categoria \"))\n",
        "HE = int(input(\"Ingresa el número de horas extras \"))\n",
        "PHE = 0\n",
        "NSUE = 0\n",
        "if CATE == 1:\n",
        "    PHE = 30\n",
        "elif CATE == 2:\n",
        "    PHE = 38\n",
        "elif CATE == 3:\n",
        "    PHE = 50\n",
        "elif CATE == 4:\n",
        "    PHE = 70\n",
        "else:\n",
        "    PHE = 0\n",
        "if HE > 30:\n",
        "    NSUE = SUE+(30*PHE)\n",
        "else:\n",
        "    NSUE = SUE+(HE*PHE)\n",
        "print(\"Su sueldo es de\", NSUE)\n",
        "print(\"Fin del programa\")"
      ],
      "execution_count": null,
      "outputs": [
        {
          "output_type": "stream",
          "name": "stdout",
          "text": [
            "Sueldo básico 3350\n",
            "Ingrese la categoria 3\n",
            "Ingresa el número de horas extras 49\n",
            "Su sueldo es de 4850.0\n",
            "Fin del programa\n"
          ]
        }
      ]
    },
    {
      "cell_type": "code",
      "metadata": {
        "colab": {
          "base_uri": "https://localhost:8080/"
        },
        "id": "EeF-nSIP14y9",
        "outputId": "e83ec763-da8e-4d83-da4a-38b7e48fb423"
      },
      "source": [
        "# Problema 2.13\n",
        "\n",
        "MAT = int(input(\"Ingrese la matricula \"))\n",
        "CARR = input(\"Ingresa tu carrera \")\n",
        "SEM = int(input(\"Ingrese el número de semestres aprobados \"))\n",
        "PROM = float(input(\"Ingrese el promedio \"))\n",
        "\n",
        "if CARR == 'Economía': \n",
        "    if SEM >= 6 and PROM >= 8.8:\n",
        "        print(\"Aceptado\")\n",
        "elif CARR == 'Computación':\n",
        "    if SEM >= 6 and PROM >= 8.5:\n",
        "        print(\"Aceptado\", MAT, CARR)\n",
        "else:\n",
        "    if CARR == 'Contabilidad' or CARR == 'Administración':\n",
        "        if SEM >= 6 and PROM >= 8.5:\n",
        "            print(\"Aceptado\", MAT, CARR)\n",
        "print(\"Fin del programa\")\n"
      ],
      "execution_count": 112,
      "outputs": [
        {
          "output_type": "stream",
          "name": "stdout",
          "text": [
            "Ingrese la matricula 2600\n",
            "Ingresa tu carrera Administración\n",
            "Ingrese el número de semestres aprobados 6\n",
            "Ingrese el promedio 9\n",
            "Aceptado 2600 Administración\n",
            "Fin del programa\n"
          ]
        }
      ]
    }
  ]
}