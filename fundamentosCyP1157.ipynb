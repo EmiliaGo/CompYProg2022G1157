{
  "nbformat": 4,
  "nbformat_minor": 0,
  "metadata": {
    "colab": {
      "name": "fundamentosCyP1157.ipynb",
      "provenance": [],
      "collapsed_sections": [],
      "authorship_tag": "ABX9TyN3Ud8GrdwxzkYZbfA8M1/2",
      "include_colab_link": true
    },
    "kernelspec": {
      "name": "python3",
      "display_name": "Python 3"
    },
    "language_info": {
      "name": "python"
    }
  },
  "cells": [
    {
      "cell_type": "markdown",
      "metadata": {
        "id": "view-in-github",
        "colab_type": "text"
      },
      "source": [
        "<a href=\"https://colab.research.google.com/github/EmiliaGo/CompYProg2022G1157/blob/main/fundamentosCyP1157.ipynb\" target=\"_parent\"><img src=\"https://colab.research.google.com/assets/colab-badge.svg\" alt=\"Open In Colab\"/></a>"
      ]
    },
    {
      "cell_type": "code",
      "metadata": {
        "colab": {
          "base_uri": "https://localhost:8080/"
        },
        "id": "eFNDIGwXVZSy",
        "outputId": "33e8bea9-03fc-4480-f2d8-2d6d104642e3"
      },
      "source": [
        "# 12 DE OCTUBRE DE 2021 de las 4:00 pm - 6:00 pm\n",
        "\n",
        "nombre = \"José\" #Tipo de dat String (cadena de caracteres)\n",
        "\n",
        "print (nombre)"
      ],
      "execution_count": null,
      "outputs": [
        {
          "output_type": "stream",
          "name": "stdout",
          "text": [
            "José\n"
          ]
        }
      ]
    },
    {
      "cell_type": "markdown",
      "metadata": {
        "id": "ww9CbhxCXNNu"
      },
      "source": [
        "# Tipos de datos en Python\n",
        "## Tipos simples\n",
        "- str -- String cadena de caracatéres\n",
        "- int -- Números enteros \n",
        "- float -- Números con notacion de punto flotante\n",
        "- complex -- Números complejos \n",
        "- bool -- Bolenao (True o Fals)\n",
        "- byte -- 8 bits\n",
        "\n",
        "## Tipos de datos estruturados (compuesto)\n",
        "- list -- Listas (arreglos)\n",
        "- tuple --Lista no mutable\n",
        "- dict -- Diccionarios\n",
        "- set y frozenset -- Conjuntos\n",
        "\n",
        "\n"
      ]
    },
    {
      "cell_type": "code",
      "metadata": {
        "colab": {
          "base_uri": "https://localhost:8080/"
        },
        "id": "zw2CtGKXaQm2",
        "outputId": "c69e1f2c-04eb-45c5-905f-692f72118350"
      },
      "source": [
        "import sys\n",
        "# libreria \n",
        "edad = 19\n",
        "print (\"Tu edad es:\", edad)  # pueden ir despues de una linea de código\n",
        "# Este es un comentario de linea simple\n",
        "\n",
        "\"\"\"\n",
        "Cometario\n",
        "de multiple línea\n",
        "En el lenjuage de C, C++ y Java el comentario de multiple línea es con\n",
        "/* ..... */\n",
        "de una sola linea es \n",
        "//\n",
        "\"\"\"\n",
        "\n",
        "# Tipo de dato númerico int y float\n",
        "\n",
        "print (sys.getsizeof(edad))\n",
        "#cuanto ocupa en este caso 28 bits\n",
        "# el tipo de datos INT utiliza diferentes casntidad de bits segun el leg. de \n",
        "#prog. por ejemplo en C ocupa 16 bits\n",
        "edad = edad + 1\n",
        "print (edad)\n",
        "\n",
        "estatura = 1.56\n",
        "print (estatura)\n",
        "print (sys.getsizeof(estatura))\n",
        "estatura = estatura + 0.1\n",
        "print (estatura)\n",
        "print (round(estatura,2))\n",
        "# redondeando\n",
        "# Ocupa 4 bytes\n",
        "\n",
        "\n",
        "edad += 1 # es igual a edad = edad + 1\n",
        "print (\"Tu edad es\",edad)\n",
        "\n",
        "edad -= 1\n",
        "print (\"tu edad es\", edad)\n",
        "\n",
        "edad /= 2 \n",
        "print (\"La mitad de tu edade es:\", edad)\n",
        "\n",
        "edad = 21\n",
        "#volver a calcular la mitad de la edad pero solo dejar la aprte entera\n",
        "edad = edad // 2\n",
        "print (\"Tu edad es:\", edad) \n",
        "\n",
        "#en la amyoria de lenguajes no permite operaciones entre diferentes tipos de datos\n",
        "\n",
        "numero = edad / 2.0\n",
        "print (numero)\n",
        "\n",
        "numero = numero * 3\n",
        "# o numero *= 3 . MULTIPLICACION\n",
        "print (numero)\n",
        "\n",
        "numero = 5.0\n",
        "numero = numero **2\n",
        "#POTENCIA, no tiene simplificacion es otros lenguajes\n",
        "print (numero)\n",
        "\n",
        "#mod operador --- Modulo\n",
        "numero = 21\n",
        "print (numero / 2)\n",
        "\n"
      ],
      "execution_count": null,
      "outputs": [
        {
          "output_type": "stream",
          "name": "stdout",
          "text": [
            "Tu edad es: 19\n",
            "28\n",
            "20\n",
            "1.56\n",
            "24\n",
            "1.6600000000000001\n",
            "1.66\n",
            "Tu edad es 21\n",
            "tu edad es 20\n",
            "La mitad de tu edade es: 10.0\n",
            "Tu edad es: 10\n",
            "5.0\n",
            "15.0\n",
            "25.0\n"
          ]
        }
      ]
    },
    {
      "cell_type": "code",
      "metadata": {
        "id": "asJJt1vCkn4H"
      },
      "source": [
        ""
      ],
      "execution_count": null,
      "outputs": []
    },
    {
      "cell_type": "code",
      "metadata": {
        "colab": {
          "base_uri": "https://localhost:8080/"
        },
        "id": "Z3oPAHXJlwYB",
        "outputId": "d47f4bf8-87a5-4bcb-f351-c12b1a05531a"
      },
      "source": [
        "\n",
        "numero = 21\n",
        "print (numero / 2)\n",
        "\n",
        "#parte entera\n",
        "print (numero // 2)\n",
        "\n",
        "#mod operador --- Modulo, da el residuo de la division entera\n",
        "#signo de porciento\n",
        "print (numero % 2)\n",
        "\n",
        "numero = 24\n",
        "print (\"resuduo de 24/5:\", numero % 5)\n",
        "\n",
        "print (numero % 2 == 0)\n",
        "# comparador lógico\n",
        "\n",
        "print (numero > 2)\n",
        "\n",
        "\n",
        "print (\"El tipo de dato de la var numero es:\", type (numero))\n",
        "print (\"El tipo de dato de la var numero /2.0 es:\", type (numero/2.0))"
      ],
      "execution_count": null,
      "outputs": [
        {
          "output_type": "stream",
          "name": "stdout",
          "text": [
            "10.5\n",
            "10\n",
            "1\n",
            "resuduo de 24/5: 4\n",
            "True\n",
            "True\n",
            "El tipo de dato de la var numero es: <class 'int'>\n",
            "El tipo de dato de la var numero /2.0 es: <class 'float'>\n"
          ]
        }
      ]
    },
    {
      "cell_type": "markdown",
      "metadata": {
        "id": "PmWyySKXpqdw"
      },
      "source": [
        "# Tipo de dato String (str) en Python\n",
        "- se maneja  como un arreglo (tipo de dato compuesto)\n",
        "- se puede acceder a los elementos de el string por medio del índice del caracter\n",
        "- mutable\n",
        "- tiene metodos utiles potentes\n",
        "- slicing"
      ]
    },
    {
      "cell_type": "code",
      "metadata": {
        "colab": {
          "base_uri": "https://localhost:8080/"
        },
        "id": "L8-OWEyvqWs1",
        "outputId": "d7725d83-f100-41e0-ea70-9bc297901aec"
      },
      "source": [
        "nombre = 'Emilia'\n",
        "carrera = \"Ingeneria en computación\"\n",
        "frase = \"\"\"El conocimiento \n",
        "me persige,...\n",
        "pero \n",
        "yo soy más rapido\n",
        "\"\"\"\n",
        "print (nombre)\n",
        "print (carrera)\n",
        "print (frase)\n",
        "\n",
        "# La funcion type de Python te devuelve el tipo de dato de una variabre\n",
        "\n",
        "paterno = str (\"Gonzalez\")\n",
        "print (paterno)"
      ],
      "execution_count": null,
      "outputs": [
        {
          "output_type": "stream",
          "name": "stdout",
          "text": [
            "Emilia\n",
            "Ingeneria en computación\n",
            "El conocimiento \n",
            "me persige,...\n",
            "pero \n",
            "yo soy más rapido\n",
            "\n",
            "Gonzalez\n"
          ]
        }
      ]
    }
  ]
}