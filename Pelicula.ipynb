{
  "nbformat": 4,
  "nbformat_minor": 0,
  "metadata": {
    "colab": {
      "name": "Pelicula.ipynb",
      "provenance": [],
      "authorship_tag": "ABX9TyOcyfd+qXWjeIfeA7pbaPeR",
      "include_colab_link": true
    },
    "kernelspec": {
      "name": "python3",
      "display_name": "Python 3"
    },
    "language_info": {
      "name": "python"
    }
  },
  "cells": [
    {
      "cell_type": "markdown",
      "metadata": {
        "id": "view-in-github",
        "colab_type": "text"
      },
      "source": [
        "<a href=\"https://colab.research.google.com/github/EmiliaGo/CompYProg2022G1157/blob/main/Pelicula.ipynb\" target=\"_parent\"><img src=\"https://colab.research.google.com/assets/colab-badge.svg\" alt=\"Open In Colab\"/></a>"
      ]
    },
    {
      "cell_type": "code",
      "metadata": {
        "id": "p7HBRyouLqhf"
      },
      "source": [
        "peli= {\"nombre\":\"Yo antes de ti\", \n",
        "       \"personajes\": {\n",
        "           \"Louisa Clark\",\n",
        "           \"William Traynor\",\n",
        "           \"Patrick\",\n",
        "           \"Katrina Clark\"\n",
        "       },\n",
        "       \"estreno\":{\n",
        "           \"dia\": \"3\",\n",
        "           \"mes\":\"junio\",\n",
        "           \"año\":\"2016\"\n",
        "       },\n",
        "       \"direcion y musica\":{\n",
        "           \"Directora\":\"Thea Sharrock\",\n",
        "           \"Música\":\"Craig Armstrong\",\n",
        "           \"Historia de\" : \"Jojo Moyes\"\n",
        "       }, \n",
        "       \"actores\":{\n",
        "           \"Emilia Clarke\",\n",
        "           \"Sam Claflin\",\n",
        "           \"Matthew Lewis\",\n",
        "           \"Jenna Coleman\"\n",
        "       },\n",
        "       \"Resumen\" : \"\"\"Louisa una chica inestable y creativa, \n",
        "       reside en un pequeño pueblo de la campiña inglesa. \n",
        "       Vive sin rumbo y va de un trabajo a otro para ayudar a su familia a llegar a fin de mes. \n",
        "       Sin embargo, un nuevo trabajo pondrá a prueba su habitual alegría.\"\"\"\n",
        "\n",
        "}\n"
      ],
      "execution_count": 4,
      "outputs": []
    }
  ]
}