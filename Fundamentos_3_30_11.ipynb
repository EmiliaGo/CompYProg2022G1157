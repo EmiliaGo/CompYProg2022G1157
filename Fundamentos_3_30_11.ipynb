{
  "nbformat": 4,
  "nbformat_minor": 0,
  "metadata": {
    "colab": {
      "name": "Fundamentos 3 30/11.ipynb",
      "provenance": [],
      "authorship_tag": "ABX9TyP9DnupVzuj8v8tAz55ZYIy",
      "include_colab_link": true
    },
    "kernelspec": {
      "name": "python3",
      "display_name": "Python 3"
    },
    "language_info": {
      "name": "python"
    }
  },
  "cells": [
    {
      "cell_type": "markdown",
      "metadata": {
        "id": "view-in-github",
        "colab_type": "text"
      },
      "source": [
        "<a href=\"https://colab.research.google.com/github/EmiliaGo/CompYProg2022G1157/blob/main/Fundamentos_3_30_11.ipynb\" target=\"_parent\"><img src=\"https://colab.research.google.com/assets/colab-badge.svg\" alt=\"Open In Colab\"/></a>"
      ]
    },
    {
      "cell_type": "code",
      "metadata": {
        "colab": {
          "base_uri": "https://localhost:8080/"
        },
        "id": "HjpMurVzB_0h",
        "outputId": "d824c5b2-af83-4dba-c735-c657be0ff788"
      },
      "source": [
        "n = int(input(\"Ingrese un numero entero positivo: \"))\n",
        "\n",
        "if n > 0:\n",
        "    print(\"Es correcto\")\n",
        "    for i in range (10):\n",
        "        # i in range (1,11)\n",
        "        print(n,\"por\", i+1, \"es igual a\", n*(i+1))\n",
        "# si se quitara el \"+1\" empieza desde 0 a 9\n",
        "else:\n",
        "    print(\"El número ingresado no es correcto\")\n"
      ],
      "execution_count": null,
      "outputs": [
        {
          "output_type": "stream",
          "name": "stdout",
          "text": [
            "Ingrese un numero entero positivo: 2\n",
            "Es correcto\n",
            "2 por 1 es igual a 2\n",
            "2 por 2 es igual a 4\n",
            "2 por 3 es igual a 6\n",
            "2 por 4 es igual a 8\n",
            "2 por 5 es igual a 10\n",
            "2 por 6 es igual a 12\n",
            "2 por 7 es igual a 14\n",
            "2 por 8 es igual a 16\n",
            "2 por 9 es igual a 18\n",
            "2 por 10 es igual a 20\n"
          ]
        }
      ]
    },
    {
      "cell_type": "markdown",
      "metadata": {
        "id": "HLGcIHWLFkwa"
      },
      "source": [
        "Repetición\n",
        "  - este tipo de estructura nos permite automatizar la ejecución repetitiva de código mientras ciertas condiciones se cumplan, tenemos 3 varianetes de esta estructuras en todos los leng. de programacion.\n",
        "    - Desde... hasta(estructura for)\n",
        "    - haz mientras (estructura while)\n",
        "    - haz y luego validaz mientras (estructura Do-While)\n",
        "\n",
        "# FOR con Python\n",
        "```\n",
        "for j in range(10):\n",
        "    print(f\"hola {j}\")\n",
        "```\n",
        "\n",
        "#FOR con C y Java\n",
        "```\n",
        "for (int j =0; j<10 ; j=j+1 ){\n",
        "    printf(\"Hola %i \\n, j\");\n",
        "}\n",
        "```\n",
        "\n",
        "en todos los lenguajes de programacion existen un tipo especial de for, conocido como ***for-each***\n",
        "\n",
        "# for-each en python\n",
        "```\n",
        "for color in colores:\n",
        "    print(f\"Este es el color {color}\")\n",
        "```"
      ]
    },
    {
      "cell_type": "code",
      "metadata": {
        "colab": {
          "base_uri": "https://localhost:8080/"
        },
        "id": "__UCm9gOFPmS",
        "outputId": "7e6290da-9cd7-4e5c-a9f2-7cbb5bd1109e"
      },
      "source": [
        "# funcion range ()\n",
        "# range(<INICIO><STOP><INCREMENTO>)\n",
        "\n",
        "x = range(0,10,2)\n",
        "print(x)"
      ],
      "execution_count": null,
      "outputs": [
        {
          "output_type": "stream",
          "name": "stdout",
          "text": [
            "range(0, 10, 2)\n"
          ]
        }
      ]
    },
    {
      "cell_type": "code",
      "metadata": {
        "colab": {
          "base_uri": "https://localhost:8080/"
        },
        "id": "hFnsEp8UIzHu",
        "outputId": "17083e5a-965b-4f6b-e178-a9c80660d674"
      },
      "source": [
        "for j in range (10):\n",
        "    print(f\"Hola {j}\")\n",
        "print(\"-----------------\")\n",
        "for j in range (0,10,2):\n",
        "    print(f\"Hola {j}\")\n",
        "print(\"-----------------\")\n",
        "frutas = [\"uva\",\"aguacate\",\"pera\",\"manzana\",\"sandia\"]\n",
        "print(frutas[0])\n",
        "print(frutas[1])\n",
        "print(frutas[2])\n",
        "print(frutas[3])\n",
        "print(frutas[4])\n",
        "print(frutas[5])\n",
        "\n",
        "print(\"----frutas----\")\n",
        "for index in range(5):\n",
        "    print(frutas[index])\n",
        "print(\"-----------------\")\n",
        "for j in range (6):\n",
        "    print(\"+++++ \")\n"
      ],
      "execution_count": null,
      "outputs": [
        {
          "output_type": "stream",
          "name": "stdout",
          "text": [
            "Hola 0\n",
            "Hola 1\n",
            "Hola 2\n",
            "Hola 3\n",
            "Hola 4\n",
            "Hola 5\n",
            "Hola 6\n",
            "Hola 7\n",
            "Hola 8\n",
            "Hola 9\n",
            "-----------------\n",
            "Hola 0\n",
            "Hola 2\n",
            "Hola 4\n",
            "Hola 6\n",
            "Hola 8\n",
            "-----------------\n",
            "uva\n",
            "aguacate\n",
            "pera\n",
            "----frutas----\n",
            "uva\n",
            "aguacate\n",
            "pera\n",
            "manzana\n",
            "sandia\n",
            "-----------------\n",
            "+++++ \n",
            "+++++ \n",
            "+++++ \n",
            "+++++ \n",
            "+++++ \n",
            "+++++ \n"
          ]
        }
      ]
    },
    {
      "cell_type": "code",
      "metadata": {
        "colab": {
          "base_uri": "https://localhost:8080/"
        },
        "id": "Trjf0JpbL1IO",
        "outputId": "49229a67-e2ad-465d-8a63-ca133472b432"
      },
      "source": [
        "mas = [\"+\",\"++\",\"+++\",\"++++\",\"+++++\"]\n",
        "for index in range(5):\n",
        "    print(mas[index])"
      ],
      "execution_count": null,
      "outputs": [
        {
          "output_type": "stream",
          "name": "stdout",
          "text": [
            "+\n",
            "++\n",
            "+++\n",
            "++++\n",
            "+++++\n"
          ]
        }
      ]
    },
    {
      "cell_type": "code",
      "metadata": {
        "colab": {
          "base_uri": "https://localhost:8080/"
        },
        "id": "e-6y2Z3BLlGi",
        "outputId": "c8e10695-34cc-4dfd-8a39-c0dd714f7c5a"
      },
      "source": [
        "for x in range (1, 20, 1):\n",
        "    print(x)\n",
        "print(\"Fin del programa\")\n",
        "\n",
        "for x in range (19, 0, -1):\n",
        "    print(x)\n",
        "print(\"Fin del programa\")"
      ],
      "execution_count": null,
      "outputs": [
        {
          "output_type": "stream",
          "name": "stdout",
          "text": [
            "1\n",
            "2\n",
            "3\n",
            "4\n",
            "5\n",
            "6\n",
            "7\n",
            "8\n",
            "9\n",
            "10\n",
            "11\n",
            "12\n",
            "13\n",
            "14\n",
            "15\n",
            "16\n",
            "17\n",
            "18\n",
            "19\n",
            "Fin del programa\n",
            "19\n",
            "18\n",
            "17\n",
            "16\n",
            "15\n",
            "14\n",
            "13\n",
            "12\n",
            "11\n",
            "10\n",
            "9\n",
            "8\n",
            "7\n",
            "6\n",
            "5\n",
            "4\n",
            "3\n",
            "2\n",
            "1\n",
            "Fin del programa\n"
          ]
        }
      ]
    },
    {
      "cell_type": "code",
      "metadata": {
        "colab": {
          "base_uri": "https://localhost:8080/"
        },
        "id": "biWNgni5NQ4Q",
        "outputId": "727fdab4-476e-4321-9eda-fb98f359e472"
      },
      "source": [
        "# ejemplo 3.3\n",
        "\n",
        "CUECER = 0\n",
        "NUM = 0\n",
        "N = int(input(\"ingrese un valor numerico mayor a 1: \"))\n",
        "\n",
        "for I in range (1, N+1, 1):\n",
        "    NUM = int(input(\"ingrese un valor numerico myor a 1: \"))\n",
        "    if NUM == 0:\n",
        "        CUECER += 1\n",
        "\n",
        "print(\"CUECER=\", CUECER)"
      ],
      "execution_count": null,
      "outputs": [
        {
          "output_type": "stream",
          "name": "stdout",
          "text": [
            "ingrese un valor numerico mayor a 1: 4\n",
            "ingrese un valor numerico myor a 1: 1\n",
            "ingrese un valor numerico myor a 1: 1\n",
            "ingrese un valor numerico myor a 1: 0\n",
            "ingrese un valor numerico myor a 1: 0\n",
            "CUECER= 2\n"
          ]
        }
      ]
    },
    {
      "cell_type": "code",
      "metadata": {
        "colab": {
          "base_uri": "https://localhost:8080/"
        },
        "id": "ftk5KYHVQtVA",
        "outputId": "c515250d-d3ac-4c4a-f5c1-5bf4c00707b3"
      },
      "source": [
        "for I in range (1,11):\n",
        "    print(f\"7 x {I} = {7*I} \")"
      ],
      "execution_count": null,
      "outputs": [
        {
          "output_type": "stream",
          "name": "stdout",
          "text": [
            "7 x 1 = 7 \n",
            "7 x 2 = 14 \n",
            "7 x 3 = 21 \n",
            "7 x 4 = 28 \n",
            "7 x 5 = 35 \n",
            "7 x 6 = 42 \n",
            "7 x 7 = 49 \n",
            "7 x 8 = 56 \n",
            "7 x 9 = 63 \n",
            "7 x 10 = 70 \n"
          ]
        }
      ]
    },
    {
      "cell_type": "code",
      "metadata": {
        "colab": {
          "base_uri": "https://localhost:8080/"
        },
        "id": "o4GDIWh6R7Ob",
        "outputId": "3bc0212d-2ace-422e-cc28-ca909861753c"
      },
      "source": [
        "n = int(input(\"ingrese un entre el 1 y 5: \"))\n",
        "if n >= 1 and n<=5:\n",
        "    l = int(input(f\"ingrese un entre {n} y 10: \"))\n",
        "    if l >=n  and l<=10:\n",
        "        for i in range(n, l+1):\n",
        "            for j in range(1,11):\n",
        "                print(f\"{i} x {j} =\", i*j)\n",
        "            print(\"---------\")\n",
        "else:\n",
        "    print(\"fuera de rango\")"
      ],
      "execution_count": null,
      "outputs": [
        {
          "output_type": "stream",
          "name": "stdout",
          "text": [
            "ingrese un entre el 1 y 5: 4\n",
            "ingrese un entre 4 y 10: 7\n",
            "4 x 1 = 4\n",
            "4 x 2 = 8\n",
            "4 x 3 = 12\n",
            "4 x 4 = 16\n",
            "4 x 5 = 20\n",
            "4 x 6 = 24\n",
            "4 x 7 = 28\n",
            "4 x 8 = 32\n",
            "4 x 9 = 36\n",
            "4 x 10 = 40\n",
            "---------\n",
            "5 x 1 = 5\n",
            "5 x 2 = 10\n",
            "5 x 3 = 15\n",
            "5 x 4 = 20\n",
            "5 x 5 = 25\n",
            "5 x 6 = 30\n",
            "5 x 7 = 35\n",
            "5 x 8 = 40\n",
            "5 x 9 = 45\n",
            "5 x 10 = 50\n",
            "---------\n",
            "6 x 1 = 6\n",
            "6 x 2 = 12\n",
            "6 x 3 = 18\n",
            "6 x 4 = 24\n",
            "6 x 5 = 30\n",
            "6 x 6 = 36\n",
            "6 x 7 = 42\n",
            "6 x 8 = 48\n",
            "6 x 9 = 54\n",
            "6 x 10 = 60\n",
            "---------\n",
            "7 x 1 = 7\n",
            "7 x 2 = 14\n",
            "7 x 3 = 21\n",
            "7 x 4 = 28\n",
            "7 x 5 = 35\n",
            "7 x 6 = 42\n",
            "7 x 7 = 49\n",
            "7 x 8 = 56\n",
            "7 x 9 = 63\n",
            "7 x 10 = 70\n",
            "---------\n"
          ]
        }
      ]
    },
    {
      "cell_type": "code",
      "metadata": {
        "colab": {
          "base_uri": "https://localhost:8080/"
        },
        "id": "gQc37lM_WOXp",
        "outputId": "dc5ef250-11ab-4dbc-ca93-54773b1d21c7"
      },
      "source": [
        "# GENERADORES DE LISTA\n",
        "\n",
        "numero = [0,0,0,0]\n",
        "print(numero)\n",
        "numero = [0 for x in range(5)]\n",
        "print(numero)\n",
        "\n",
        "# emplenado la variable de contrl x para el valor inical\n",
        "numero = [(x+1)*10 for x in range(10)]\n",
        "print(numero)\n",
        "print(\"-------\")\n",
        "numero = [x for x in range(10,101,10)]\n",
        "print(numero)\n",
        "print(\"-------\")\n",
        "numero = [x*10 for x in range(1,11)]\n",
        "print(numero)"
      ],
      "execution_count": null,
      "outputs": [
        {
          "output_type": "stream",
          "name": "stdout",
          "text": [
            "[0, 0, 0, 0]\n",
            "[0, 0, 0, 0, 0]\n",
            "[10, 20, 30, 40, 50, 60, 70, 80, 90, 100]\n",
            "-------\n",
            "[10, 20, 30, 40, 50, 60, 70, 80, 90, 100]\n",
            "-------\n",
            "[10, 20, 30, 40, 50, 60, 70, 80, 90, 100]\n"
          ]
        }
      ]
    },
    {
      "cell_type": "code",
      "metadata": {
        "colab": {
          "base_uri": "https://localhost:8080/"
        },
        "id": "t3UUos3rYQKt",
        "outputId": "618a293d-709a-4004-bb58-a214ed6425ba"
      },
      "source": [
        "# EJERCICO: calcuar promedio de edad\n",
        "prom = 0\n",
        "suma = 0\n",
        "edades = [0 for x in range(5)]\n",
        "for x in range(5):\n",
        "    edades[x]= int(input(\"Dame una edad \"))\n",
        "    suma=suma+edades[x]\n",
        "print(edades)\n",
        "print(\"promedio: \", suma/5 )\n",
        "1"
      ],
      "execution_count": null,
      "outputs": [
        {
          "output_type": "stream",
          "name": "stdout",
          "text": [
            "Dame una edad 20\n",
            "Dame una edad 21\n",
            "Dame una edad 33\n",
            "Dame una edad 35\n",
            "Dame una edad 19\n",
            "[20, 21, 33, 35, 19]\n",
            "promedio:  25.6\n"
          ]
        },
        {
          "output_type": "execute_result",
          "data": {
            "text/plain": [
              "1"
            ]
          },
          "metadata": {},
          "execution_count": 41
        }
      ]
    },
    {
      "cell_type": "code",
      "metadata": {
        "colab": {
          "base_uri": "https://localhost:8080/"
        },
        "id": "19J5d6GNcepe",
        "outputId": "ed917543-dede-4c63-b61e-cfe67e22af8e"
      },
      "source": [
        "import random\n",
        "print(random.random())\n",
        "print(random.uniform(5,11))\n",
        "val = round(random.uniform(5,11) , 2)\n",
        "print(val)\n",
        "\n",
        "valores = [round(random.uniform(5,11), 2) for x in range(20)]\n",
        "print(valores)"
      ],
      "execution_count": null,
      "outputs": [
        {
          "output_type": "stream",
          "name": "stdout",
          "text": [
            "0.3676176071970866\n",
            "5.279162679210628\n",
            "6.83\n",
            "[8.4, 8.66, 9.6, 10.22, 6.58, 7.88, 6.48, 9.01, 10.16, 5.19, 6.36, 6.14, 8.23, 10.01, 7.17, 6.05, 6.81, 10.86, 8.27, 7.71]\n"
          ]
        }
      ]
    },
    {
      "cell_type": "markdown",
      "metadata": {
        "id": "XQplQLhd55Af"
      },
      "source": [
        "## estructura de control de repetición Haz- mientras.\n",
        "\n",
        "Una estructura de control haz-mmientras nos permite ejecutar repetidamente mientras una condicion se siga cumpliendo \n",
        "\n",
        "```\n",
        "while <condición>:\n",
        "    <Bloque de sentencia a ejecutar repetidamente>\n",
        "<siguiente sentencia posterior al while>\n",
        "```\n",
        "La diferencia principal en comparación con la estructura for es que con WHILE NO CONOCES el número de ciclos a ejecutar, en for si se conoce.\n",
        "\n",
        "Como ejemplo inicaremos con el siguente enunciado.\n",
        "\n",
        "Hacer un programa que solicite un valor entero positivo y calcule prepetidamente la midad y se reasigne a la misma variable. El ciclo se debe detener cuando el resultado sea menor que 1.\n",
        "mostrar en pantalla el resultado de cada cálculo y al final el número de iteraciones que realizó \n",
        "\n",
        "```\n",
        "Introduce un numero entero positivo: 17\n",
        "8.5\n",
        "4.25\n",
        "2.12\n",
        "1.06\n",
        "0.53\n",
        "Total de iteraciones= 5\n",
        "```"
      ]
    },
    {
      "cell_type": "code",
      "metadata": {
        "colab": {
          "base_uri": "https://localhost:8080/"
        },
        "id": "sEzYYLXR6wFe",
        "outputId": "217badee-464c-4783-8097-c5e85e164738"
      },
      "source": [
        "valor = int(input(\"Introduce un numero entero positivo \"))\n",
        "contador = 0\n",
        "if valor > 0:\n",
        "    while valor > 1.0:\n",
        "        valor = valor/2\n",
        "        print( round(valor,2))\n",
        "        contador +=1\n",
        "else:\n",
        "    print(\"El número ingresado es negativo, intenta de nuevo\")\n",
        "print(\"Total de iteraciones\", contador)"
      ],
      "execution_count": 2,
      "outputs": [
        {
          "output_type": "stream",
          "name": "stdout",
          "text": [
            "Introduce un numero entero positivo 4\n",
            "2.0\n",
            "1.0\n",
            "Total de iteraciones 2\n"
          ]
        }
      ]
    },
    {
      "cell_type": "code",
      "metadata": {
        "colab": {
          "base_uri": "https://localhost:8080/"
        },
        "id": "6NLtojoY8nB_",
        "outputId": "e0a44af8-ac4e-4301-f6ae-c07670680766"
      },
      "source": [
        "valor = int(input(\"dame un valor entero \"))\n",
        "\n",
        "while valor !=0:\n",
        "    print(valor)\n",
        "    valor  = int(input(\"dame un valor entero \"))\n",
        "print(\"Fin del programa\")"
      ],
      "execution_count": 3,
      "outputs": [
        {
          "output_type": "stream",
          "name": "stdout",
          "text": [
            "dame un valor entero 2\n",
            "2\n",
            "dame un valor entero 0\n",
            "Fin del programa\n"
          ]
        }
      ]
    },
    {
      "cell_type": "code",
      "metadata": {
        "id": "l-7xqr6X9Js1"
      },
      "source": [
        "#valor = int(input(\"dame un valor entero \"))\n",
        "#while valor !=0:\n",
        "#    print(valor)\n",
        "#    print(\"Otras cosas\")\n",
        "#print(\"Fin del programa\")\n",
        "\n",
        "# ejemplo de como se hace infinito, porque no se modifica el valor de \"valor\", no intentarlo "
      ],
      "execution_count": null,
      "outputs": []
    },
    {
      "cell_type": "code",
      "metadata": {
        "colab": {
          "base_uri": "https://localhost:8080/"
        },
        "id": "EfUT15oxGaon",
        "outputId": "d824c5b2-af83-4dba-c735-c657be0ff788"
      },
      "source": [
        "n = int(input(\"Ingrese un numero entero positivo: \"))\n",
        "\n",
        "if n > 0:\n",
        "    print(\"Es correcto\")\n",
        "    for i in range (10):\n",
        "        # i in range (1,11)\n",
        "        print(n,\"por\", i+1, \"es igual a\", n*(i+1))\n",
        "# si se quitara el \"+1\" empieza desde 0 a 9\n",
        "else:\n",
        "    print(\"El número ingresado no es correcto\")\n"
      ],
      "execution_count": null,
      "outputs": [
        {
          "output_type": "stream",
          "name": "stdout",
          "text": [
            "Ingrese un numero entero positivo: 2\n",
            "Es correcto\n",
            "2 por 1 es igual a 2\n",
            "2 por 2 es igual a 4\n",
            "2 por 3 es igual a 6\n",
            "2 por 4 es igual a 8\n",
            "2 por 5 es igual a 10\n",
            "2 por 6 es igual a 12\n",
            "2 por 7 es igual a 14\n",
            "2 por 8 es igual a 16\n",
            "2 por 9 es igual a 18\n",
            "2 por 10 es igual a 20\n"
          ]
        }
      ]
    },
    {
      "cell_type": "code",
      "metadata": {
        "colab": {
          "base_uri": "https://localhost:8080/"
        },
        "id": "5lN6-3ez_oiA",
        "outputId": "0c69ab23-af98-4492-a7b6-a38bffa3de6b"
      },
      "source": [
        "comprobar = True\n",
        "\n",
        "while comprobar == True:\n",
        "    n = int(input(\"Ingrese un numero entero positivo: \"))\n",
        "\n",
        "    if n > 0:\n",
        "        for i in range (1,11):\n",
        "            print(n,\"por\", i+1, \"es igual a\", n*(i+1))\n",
        "        comprobar = False\n",
        "    else:\n",
        "        print(\"El número ingresado no es correcto\")\n"
      ],
      "execution_count": 21,
      "outputs": [
        {
          "output_type": "stream",
          "name": "stdout",
          "text": [
            "Ingrese un numero entero positivo: 5\n",
            "5 por 2 es igual a 10\n",
            "5 por 3 es igual a 15\n",
            "5 por 4 es igual a 20\n",
            "5 por 5 es igual a 25\n",
            "5 por 6 es igual a 30\n",
            "5 por 7 es igual a 35\n",
            "5 por 8 es igual a 40\n",
            "5 por 9 es igual a 45\n",
            "5 por 10 es igual a 50\n",
            "5 por 11 es igual a 55\n"
          ]
        }
      ]
    },
    {
      "cell_type": "code",
      "metadata": {
        "colab": {
          "base_uri": "https://localhost:8080/"
        },
        "id": "jZbE3s4NHyvX",
        "outputId": "fcbc8c99-9cce-4129-8f3f-c33b68538d75"
      },
      "source": [
        "comprobar = True\n",
        "\n",
        "while comprobar == True:\n",
        "    n=int(input(\"Ingrese un numero entero positivo: \"))\n",
        "    if n > 0:\n",
        "        i=1\n",
        "        while i < 11:\n",
        "            print(n,\"por\", i, \"es igual a\", n*(i))\n",
        "            i += 1\n",
        "            comprobar = False\n",
        "    else:\n",
        "        print(\"El número ingresado no es correcto\")"
      ],
      "execution_count": 17,
      "outputs": [
        {
          "output_type": "stream",
          "name": "stdout",
          "text": [
            "Ingrese un numero entero positivo: -8\n",
            "El número ingresado no es correcto\n",
            "Ingrese un numero entero positivo: 5\n",
            "5 por 1 es igual a 5\n",
            "5 por 2 es igual a 10\n",
            "5 por 3 es igual a 15\n",
            "5 por 4 es igual a 20\n",
            "5 por 5 es igual a 25\n",
            "5 por 6 es igual a 30\n",
            "5 por 7 es igual a 35\n",
            "5 por 8 es igual a 40\n",
            "5 por 9 es igual a 45\n",
            "5 por 10 es igual a 50\n"
          ]
        }
      ]
    },
    {
      "cell_type": "code",
      "metadata": {
        "colab": {
          "base_uri": "https://localhost:8080/"
        },
        "id": "93xMH-nQJ6LO",
        "outputId": "3f5ab5ac-6cca-4b1c-ec0c-7a65fc34c691"
      },
      "source": [
        "n=int(input(\"Ingrese un numero entero positivo: \"))\n",
        "\n",
        "if n > 0:\n",
        "    resultado = 0\n",
        "    for i in range(1,n+1):\n",
        "        resultado +=(1/i)\n",
        "        print(\"El resultado de la serie es\", resultado)\n",
        "else:\n",
        "    print(\"El número no es correcto.\")"
      ],
      "execution_count": 33,
      "outputs": [
        {
          "output_type": "stream",
          "name": "stdout",
          "text": [
            "Ingrese un numero entero positivo: 4\n",
            "El resultado de la serie es 1.0\n",
            "El resultado de la serie es 1.5\n",
            "El resultado de la serie es 1.8333333333333333\n",
            "El resultado de la serie es 2.083333333333333\n"
          ]
        }
      ]
    },
    {
      "cell_type": "code",
      "metadata": {
        "colab": {
          "base_uri": "https://localhost:8080/"
        },
        "id": "eCvOMolUMSW5",
        "outputId": "1f02b0d5-ea60-4904-a6b0-fa9aa69fb051"
      },
      "source": [
        "comprobar= True\n",
        "\n",
        "while comprobar == True:\n",
        "    n=int(input(\"Ingrese un numero entero positivo: \"))\n",
        "\n",
        "    if n > 0:\n",
        "        comprobar = False\n",
        "        resultado = 0\n",
        "        for i in range(1,n+1):\n",
        "            resultado +=(1/i)\n",
        "            print(\"El resultado de la serie es\", resultado)\n",
        "    else:\n",
        "        print(\"El número no es correcto.\")"
      ],
      "execution_count": 29,
      "outputs": [
        {
          "output_type": "stream",
          "name": "stdout",
          "text": [
            "Ingrese un numero entero positivo: -5\n",
            "El número no es correcto.\n",
            "Ingrese un numero entero positivo: 3\n",
            "El resultado de la serie es 1.0\n",
            "El resultado de la serie es 1.5\n",
            "El resultado de la serie es 1.8333333333333333\n"
          ]
        }
      ]
    },
    {
      "cell_type": "code",
      "metadata": {
        "colab": {
          "base_uri": "https://localhost:8080/"
        },
        "id": "LTswLH_HN5LY",
        "outputId": "88b974d3-661e-4f1f-ecc0-11e5d901e936"
      },
      "source": [
        "# con WHILE\n",
        "comprobar= True\n",
        "\n",
        "while comprobar == True:\n",
        "    n=int(input(\"Ingrese un numero entero positivo: \"))\n",
        "\n",
        "    if n > 0:\n",
        "        comprobar = False\n",
        "        resultado += (1/i)\n",
        "        \n",
        "        print(\"El resultado de la serie es\", resultado)\n",
        "    else:\n",
        "        print(\"El número no es correcto.\")"
      ],
      "execution_count": 31,
      "outputs": [
        {
          "output_type": "stream",
          "name": "stdout",
          "text": [
            "Ingrese un numero entero positivo: -5\n",
            "El número no es correcto.\n",
            "Ingrese un numero entero positivo: 1\n",
            "El resultado de la serie es 2.1666666666666665\n"
          ]
        }
      ]
    }
  ]
}