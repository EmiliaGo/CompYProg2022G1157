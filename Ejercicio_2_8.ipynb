{
  "nbformat": 4,
  "nbformat_minor": 0,
  "metadata": {
    "colab": {
      "name": "Ejercicio 2.8.ipynb",
      "provenance": [],
      "authorship_tag": "ABX9TyNdE8KO2AU63k2AP9zmiQ/Q",
      "include_colab_link": true
    },
    "kernelspec": {
      "name": "python3",
      "display_name": "Python 3"
    },
    "language_info": {
      "name": "python"
    }
  },
  "cells": [
    {
      "cell_type": "markdown",
      "metadata": {
        "id": "view-in-github",
        "colab_type": "text"
      },
      "source": [
        "<a href=\"https://colab.research.google.com/github/EmiliaGo/CompYProg2022G1157/blob/main/Ejercicio_2_8.ipynb\" target=\"_parent\"><img src=\"https://colab.research.google.com/assets/colab-badge.svg\" alt=\"Open In Colab\"/></a>"
      ]
    },
    {
      "cell_type": "code",
      "metadata": {
        "id": "5uH9IR4X-8QI"
      },
      "source": [
        ""
      ],
      "execution_count": null,
      "outputs": []
    },
    {
      "cell_type": "code",
      "metadata": {
        "colab": {
          "base_uri": "https://localhost:8080/"
        },
        "id": "cKM47KCE5Snd",
        "outputId": "12f4b36e-71e3-4914-dd1c-1eec73fbd623"
      },
      "source": [
        "#Gonzalez Cortes Emilia Regina\n",
        "a = int(input(\"ingrese el primer numero \"))\n",
        "b = int(input(\"ingrese el segundo numero \"))\n",
        "c = int(input(\"ingrese el tercer numero \"))\n",
        "\n",
        "if a > b:\n",
        "    if a > c:\n",
        "        if b > c:\n",
        "            print(f\"{a}, {b}, {c}\")\n",
        "        else:\n",
        "            print(f\"{a}, {c}, {b}\")\n",
        "    else:\n",
        "        print(f\"{c}, {a}, {b}\")\n",
        "else:\n",
        "    if b > c:\n",
        "        if a > c:\n",
        "            print(f\"{b}, {a}, {c}\")\n",
        "        else:\n",
        "            print(f\"{b}, {c}, {a}\")\n",
        "    2else:\n",
        "        print(f\"{c}, {b}, {a}\")\n",
        "\n",
        "print(\"fin del programa\")\n",
        "\n"
      ],
      "execution_count": 3,
      "outputs": [
        {
          "output_type": "stream",
          "name": "stdout",
          "text": [
            "ingrese un numero 1\n",
            "ingrese un numero 2\n",
            "ingrese un numero 3\n",
            "3, 2, 1\n",
            "fin del programa\n"
          ]
        }
      ]
    }
  ]
}