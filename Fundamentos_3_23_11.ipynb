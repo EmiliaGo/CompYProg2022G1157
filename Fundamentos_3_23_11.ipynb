{
  "nbformat": 4,
  "nbformat_minor": 0,
  "metadata": {
    "colab": {
      "name": "Fundamentos 3 23/11.ipynb",
      "provenance": [],
      "authorship_tag": "ABX9TyMETl8mcwWZPpOTjw0QPYHl",
      "include_colab_link": true
    },
    "kernelspec": {
      "name": "python3",
      "display_name": "Python 3"
    },
    "language_info": {
      "name": "python"
    }
  },
  "cells": [
    {
      "cell_type": "markdown",
      "metadata": {
        "id": "view-in-github",
        "colab_type": "text"
      },
      "source": [
        "<a href=\"https://colab.research.google.com/github/EmiliaGo/CompYProg2022G1157/blob/main/Fundamentos_3_23_11.ipynb\" target=\"_parent\"><img src=\"https://colab.research.google.com/assets/colab-badge.svg\" alt=\"Open In Colab\"/></a>"
      ]
    },
    {
      "cell_type": "markdown",
      "metadata": {
        "id": "HLGcIHWLFkwa"
      },
      "source": [
        "Repetición\n",
        "  - este tipo de estructura nos permite automatizar la ejecución repetitiva de código mientras ciertas condiciones se cumplan, tenemos 3 varianetes de esta estructuras en todos los leng. de programacion.\n",
        "    - Desde... hasta(estructura for)\n",
        "    - haz mientras (estructura while)\n",
        "    - haz y luego validaz mientras (estructura Do-While)\n",
        "\n",
        "# FOR con Python\n",
        "```\n",
        "for j in range(10):\n",
        "    print(f\"hola {j}\")\n",
        "```\n",
        "\n",
        "#FOR con C y Java\n",
        "```\n",
        "for (int j =0; j<10 ; j=j+1 ){\n",
        "    printf(\"Hola %i \\n, j\");\n",
        "}\n",
        "```\n",
        "\n",
        "en todos los lenguajes de programacion existen un tipo especial de for, conocido como ***for-each***\n",
        "\n",
        "# for-each en python\n",
        "```\n",
        "for color in colores:\n",
        "    print(f\"Este es el color {color}\")\n",
        "```"
      ]
    },
    {
      "cell_type": "code",
      "metadata": {
        "colab": {
          "base_uri": "https://localhost:8080/"
        },
        "id": "__UCm9gOFPmS",
        "outputId": "7e6290da-9cd7-4e5c-a9f2-7cbb5bd1109e"
      },
      "source": [
        "# funcion range ()\n",
        "# range(<INICIO><STOP><INCREMENTO>)\n",
        "\n",
        "x = range(0,10,2)\n",
        "print(x)"
      ],
      "execution_count": 3,
      "outputs": [
        {
          "output_type": "stream",
          "name": "stdout",
          "text": [
            "range(0, 10, 2)\n"
          ]
        }
      ]
    },
    {
      "cell_type": "code",
      "metadata": {
        "colab": {
          "base_uri": "https://localhost:8080/"
        },
        "id": "hFnsEp8UIzHu",
        "outputId": "17083e5a-965b-4f6b-e178-a9c80660d674"
      },
      "source": [
        "for j in range (10):\n",
        "    print(f\"Hola {j}\")\n",
        "print(\"-----------------\")\n",
        "for j in range (0,10,2):\n",
        "    print(f\"Hola {j}\")\n",
        "print(\"-----------------\")\n",
        "frutas = [\"uva\",\"aguacate\",\"pera\",\"manzana\",\"sandia\"]\n",
        "print(frutas[0])\n",
        "print(frutas[1])\n",
        "print(frutas[2])\n",
        "print(frutas[3])\n",
        "print(frutas[4])\n",
        "print(frutas[5])\n",
        "\n",
        "print(\"----frutas----\")\n",
        "for index in range(5):\n",
        "    print(frutas[index])\n",
        "print(\"-----------------\")\n",
        "for j in range (6):\n",
        "    print(\"+++++ \")\n"
      ],
      "execution_count": 14,
      "outputs": [
        {
          "output_type": "stream",
          "name": "stdout",
          "text": [
            "Hola 0\n",
            "Hola 1\n",
            "Hola 2\n",
            "Hola 3\n",
            "Hola 4\n",
            "Hola 5\n",
            "Hola 6\n",
            "Hola 7\n",
            "Hola 8\n",
            "Hola 9\n",
            "-----------------\n",
            "Hola 0\n",
            "Hola 2\n",
            "Hola 4\n",
            "Hola 6\n",
            "Hola 8\n",
            "-----------------\n",
            "uva\n",
            "aguacate\n",
            "pera\n",
            "----frutas----\n",
            "uva\n",
            "aguacate\n",
            "pera\n",
            "manzana\n",
            "sandia\n",
            "-----------------\n",
            "+++++ \n",
            "+++++ \n",
            "+++++ \n",
            "+++++ \n",
            "+++++ \n",
            "+++++ \n"
          ]
        }
      ]
    },
    {
      "cell_type": "code",
      "metadata": {
        "colab": {
          "base_uri": "https://localhost:8080/"
        },
        "id": "Trjf0JpbL1IO",
        "outputId": "49229a67-e2ad-465d-8a63-ca133472b432"
      },
      "source": [
        "mas = [\"+\",\"++\",\"+++\",\"++++\",\"+++++\"]\n",
        "for index in range(5):\n",
        "    print(mas[index])"
      ],
      "execution_count": 15,
      "outputs": [
        {
          "output_type": "stream",
          "name": "stdout",
          "text": [
            "+\n",
            "++\n",
            "+++\n",
            "++++\n",
            "+++++\n"
          ]
        }
      ]
    }
  ]
}